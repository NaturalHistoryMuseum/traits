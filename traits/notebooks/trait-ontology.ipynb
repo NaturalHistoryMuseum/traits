{
 "cells": [
  {
   "cell_type": "code",
   "execution_count": null,
   "id": "394a850e-9188-4088-adec-a53660175c97",
   "metadata": {},
   "outputs": [],
   "source": [
    "import pandas_access as mdb\n",
    "import pandas as pd\n",
    "\n",
    "from adept.config import RAW_DATA_DIR"
   ]
  },
  {
   "cell_type": "code",
   "execution_count": null,
   "id": "461ce7c3-0be6-4d4b-8e5f-fcbb3e57861e",
   "metadata": {},
   "outputs": [],
   "source": [
    "accdb = RAW_DATA_DIR / 'Functional Traits_Working_File.accdb'\n",
    "taxa_group = ['angiosperm', 'bryophyte', 'pteridophyte']\n"
   ]
  },
  {
   "cell_type": "code",
   "execution_count": null,
   "id": "fa6dc807-a77a-4dd0-9d26-5f08fd3a0fda",
   "metadata": {},
   "outputs": [],
   "source": []
  }
 ],
 "metadata": {
  "kernelspec": {
   "display_name": "adept-igwYr31N-py3.9",
   "language": "python",
   "name": "adept-igwyr31n-py3.9"
  },
  "language_info": {
   "codemirror_mode": {
    "name": "ipython",
    "version": 3
   },
   "file_extension": ".py",
   "mimetype": "text/x-python",
   "name": "python",
   "nbconvert_exporter": "python",
   "pygments_lexer": "ipython3",
   "version": "3.9.10"
  }
 },
 "nbformat": 4,
 "nbformat_minor": 5
}
