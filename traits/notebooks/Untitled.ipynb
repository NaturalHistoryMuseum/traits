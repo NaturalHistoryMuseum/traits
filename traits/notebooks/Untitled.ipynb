{
 "cells": [
  {
   "cell_type": "code",
   "execution_count": 115,
   "id": "91172e6c-46e0-40b1-bbec-db00668ce498",
   "metadata": {},
   "outputs": [],
   "source": [
    "from pathlib import Path\n",
    "from adept.config import DATA_DIR, ROOT_DIR, logger, ASSETS_DIR\n",
    "\n",
    "import pandas as pd\n",
    "import re\n",
    "import enum\n",
    "import requests\n",
    "import urllib.parse\n",
    "import re\n",
    "from adept.utils.soup import RequestSoup \n",
    "from adept.descriptions.efloras import EflorasDescriptionSource"
   ]
  },
  {
   "cell_type": "code",
   "execution_count": null,
   "id": "efe7516d-62c3-4dae-a486-59f8357fd655",
   "metadata": {},
   "outputs": [],
   "source": []
  },
  {
   "cell_type": "code",
   "execution_count": 116,
   "id": "7f0dc880-bb6d-43df-a4d8-1fb725108c2e",
   "metadata": {},
   "outputs": [
    {
     "name": "stdout",
     "output_type": "stream",
     "text": [
      "genus-species\n"
     ]
    }
   ],
   "source": [
    "data_dir = Path('./genus-species')\n",
    "\n",
    "print(data_dir)"
   ]
  },
  {
   "cell_type": "code",
   "execution_count": 159,
   "id": "33247b41-f9e3-4fed-b585-4442071773c9",
   "metadata": {},
   "outputs": [],
   "source": [
    "file_name = \"Susie's Master's species[36].csv\"\n",
    "\n",
    "df = pd.read_csv(data_dir / file_name)"
   ]
  },
  {
   "cell_type": "code",
   "execution_count": 118,
   "id": "087ccfcf-89d5-41e7-aadb-bca81c0a30d9",
   "metadata": {},
   "outputs": [
    {
     "data": {
      "text/plain": [
       "array(['Pyrus', 'Rosa', 'Urtica', 'Prunus', 'Malus', 'Amygdalus',\n",
       "       'Cotoneaster', 'Crataegus', 'Sibiraea', 'Sorbaria', 'Armeniaca',\n",
       "       'Cerasus', 'Ulmus', 'Sorbus', 'Celtis', 'Ficus', 'Micromeles',\n",
       "       'Photinia', 'Eriobotrya'], dtype=object)"
      ]
     },
     "execution_count": 118,
     "metadata": {},
     "output_type": "execute_result"
    }
   ],
   "source": [
    "df['genusName'].unique()"
   ]
  },
  {
   "cell_type": "code",
   "execution_count": 19,
   "id": "7a9f5eb2-e91a-4bea-96fe-35d15d1a2810",
   "metadata": {},
   "outputs": [
    {
     "data": {
      "text/plain": [
       "array(['Angiosperm', 'Bryophyte', 'Pteridophyte', 'Gymnosperm', 'Alga'],\n",
       "      dtype=object)"
      ]
     },
     "execution_count": 19,
     "metadata": {},
     "output_type": "execute_result"
    }
   ],
   "source": [
    "# df.group.unique()\n",
    "\n",
    "# Liquidambar\n",
    "\n",
    "# http://www.efloras.org/browse.aspx?flora_id=0&start_taxon_id=118701"
   ]
  },
  {
   "cell_type": "code",
   "execution_count": 119,
   "id": "9989f6ca-fbc1-4261-ae60-46e742a112d9",
   "metadata": {},
   "outputs": [],
   "source": [
    "def parse_query_page(soup):\n",
    "\n",
    "    search_results = {}\n",
    "\n",
    "    title_span = soup.markup.find(\"span\", {\"id\": \"ucFloraTaxonList_lblListTitle\"}) \n",
    "\n",
    "    if title_span.get_text(strip=True) == 'No taxa found':\n",
    "        logger.info('No taxa found: %s', soup.parametised_url)\n",
    "        return {}\n",
    "\n",
    "    div = soup.markup.find(\"div\", {\"id\": \"ucFloraTaxonList_panelTaxonList\"})        \n",
    "\n",
    "    # We specify title=\"Accepted name\" to exclude synonyms\n",
    "    for a in div.find_all(\"a\", href=re.compile(\"^florataxon\"), title=\"Accepted Name\"):        \n",
    "        parsed_url = urllib.parse.urlparse(a.get('href'))\n",
    "        qs = urllib.parse.parse_qs(parsed_url.query) \n",
    "        search_results[int(qs['flora_id'][0])] = int(qs['taxon_id'][0]) \n",
    "\n",
    "    return search_results"
   ]
  },
  {
   "cell_type": "code",
   "execution_count": 120,
   "id": "a17fe57e-a45a-4a9a-9f16-0fd5dd84af55",
   "metadata": {},
   "outputs": [],
   "source": [
    "FLORA_OF_CHINA = 2  \n",
    "\n",
    "url =  f'http://efloras.org/browse.aspx'\n",
    "\n",
    "def search(taxon_name):\n",
    "    soup = RequestSoup(url, flora_id=FLORA_OF_CHINA, name_str=taxon_name)\n",
    "    results = parse_query_page(soup)\n",
    "    return results.get(FLORA_OF_CHINA, None)\n",
    "\n"
   ]
  },
  {
   "cell_type": "code",
   "execution_count": 122,
   "id": "7fdeaf54-faa5-45ad-90d4-29a14c68dbb0",
   "metadata": {},
   "outputs": [
    {
     "name": "stdout",
     "output_type": "stream",
     "text": [
      "PROCESSING Pyrus\n",
      "PROCESSING Rosa\n",
      "PROCESSING Urtica\n",
      "PROCESSING Prunus\n",
      "PROCESSING Malus\n",
      "PROCESSING Amygdalus\n",
      "PROCESSING Cotoneaster\n",
      "PROCESSING Crataegus\n",
      "PROCESSING Sibiraea\n",
      "PROCESSING Sorbaria\n",
      "PROCESSING Armeniaca\n",
      "PROCESSING Cerasus\n",
      "PROCESSING Ulmus\n",
      "PROCESSING Sorbus\n",
      "PROCESSING Celtis\n",
      "PROCESSING Ficus\n"
     ]
    },
    {
     "name": "stderr",
     "output_type": "stream",
     "text": [
      "INFO     No taxa found: http://efloras.org/browse.aspx?flora_id=2&name_str=Micromeles\n"
     ]
    },
    {
     "name": "stdout",
     "output_type": "stream",
     "text": [
      "PROCESSING Micromeles\n",
      "GENUS NOT FOUND Micromeles\n",
      "PROCESSING Photinia\n",
      "PROCESSING Eriobotrya\n"
     ]
    }
   ],
   "source": [
    "def parse_taxa(soup):\n",
    "    \n",
    "    div = soup.markup.find(\"div\", {\"id\": \"ucFloraTaxonList_panelTaxonList\"}) \n",
    "    \n",
    "    for a in div.find_all(\"a\", href=re.compile(\"^florataxon\"), title=\"Accepted Name\"):\n",
    "        yield a.text\n",
    "        \n",
    "def get_pages(soup):\n",
    "    page_a = soup.markup.find_all('a', {'href': re.compile(\"page=\\d\")})    \n",
    "    pages = set()\n",
    "    for a in page_a:\n",
    "        parsed_url = urllib.parse.urlparse(a.get('href'))\n",
    "        qs = urllib.parse.parse_qs(parsed_url.query) \n",
    "        pages.add(int(qs['page'][0]))\n",
    "    return pages\n",
    "\n",
    "data = {}\n",
    "\n",
    "for genus in df['genusName'].unique():\n",
    "    print(f'PROCESSING {genus}')\n",
    "    taxon_id = search(genus)\n",
    "    if not taxon_id:\n",
    "        print(f'GENUS NOT FOUND {genus}')\n",
    "        continue\n",
    "    \n",
    "    soup = RequestSoup(url, flora_id=FLORA_OF_CHINA, start_taxon_id=taxon_id)\n",
    "    taxa = parse_taxa(soup)\n",
    "\n",
    "    data[genus] = list(taxa)\n",
    "\n",
    "    if pages := get_pages(soup):\n",
    "        for page in pages:\n",
    "            print(f'PARSING PAGE {page}')\n",
    "            soup = RequestSoup(url, flora_id=FLORA_OF_CHINA, start_taxon_id=taxon_id, page=page)\n",
    "            taxa = parse_taxa(soup)\n",
    "            data[genus] += list(taxa)\n",
    "\n",
    "# for a in soup.markup.find_all(\"a\", href=re.compile(\"^florataxon\"), title=\"Accepted Name\"):\n",
    "#     print(a.text)\n",
    "\n",
    "\n",
    "# http://www.efloras.org/browse.aspx?flora_id=0&start_taxon_id=118701"
   ]
  },
  {
   "cell_type": "code",
   "execution_count": 123,
   "id": "32971941-2ad3-4dff-9208-7e2d14446d44",
   "metadata": {},
   "outputs": [],
   "source": [
    "flattened = []\n",
    "for genus, taxa in data.items():\n",
    "    for taxon in taxa:\n",
    "        flattened.append({\n",
    "            'Species name': taxon,\n",
    "            'Genus': genus,\n",
    "            'Major group': 'Angiosperm'\n",
    "            \n",
    "        })\n",
    "        \n",
    "out_df = pd.DataFrame(flattened)\n",
    "\n"
   ]
  },
  {
   "cell_type": "code",
   "execution_count": 124,
   "id": "0d2ebfae-6b3e-490f-9b2a-ab5bfc7fa1b7",
   "metadata": {},
   "outputs": [],
   "source": [
    "new_file_name = '-'.join(file_name.split()[:-1] + ['genus-species.csv']).lower().replace(\"'\", \"\")\n",
    "\n",
    "out_df.to_csv(ASSETS_DIR / new_file_name, index=False)"
   ]
  },
  {
   "cell_type": "code",
   "execution_count": 101,
   "id": "fcc510c4-c14f-4b7b-b659-3286df4b5c17",
   "metadata": {},
   "outputs": [
    {
     "data": {
      "text/plain": [
       "'cindys-masters-genus-species.csv'"
      ]
     },
     "execution_count": 101,
     "metadata": {},
     "output_type": "execute_result"
    }
   ],
   "source": []
  },
  {
   "cell_type": "code",
   "execution_count": 160,
   "id": "c4755da7-d984-4cd6-991c-d63b595ced82",
   "metadata": {},
   "outputs": [],
   "source": [
    "genus_df = df[['genusName', 'familyName']].drop_duplicates()"
   ]
  },
  {
   "cell_type": "code",
   "execution_count": 161,
   "id": "2aa2d31e-af09-43e3-9918-3ff1b76a8fbc",
   "metadata": {},
   "outputs": [],
   "source": [
    "genus_df = genus_df.rename(columns={'genusName': 'Species name', 'familyName': 'family'})"
   ]
  },
  {
   "cell_type": "code",
   "execution_count": 162,
   "id": "142cedb7-8ddd-45a8-bc60-ee34ec330e34",
   "metadata": {},
   "outputs": [
    {
     "data": {
      "text/html": [
       "<div>\n",
       "<style scoped>\n",
       "    .dataframe tbody tr th:only-of-type {\n",
       "        vertical-align: middle;\n",
       "    }\n",
       "\n",
       "    .dataframe tbody tr th {\n",
       "        vertical-align: top;\n",
       "    }\n",
       "\n",
       "    .dataframe thead th {\n",
       "        text-align: right;\n",
       "    }\n",
       "</style>\n",
       "<table border=\"1\" class=\"dataframe\">\n",
       "  <thead>\n",
       "    <tr style=\"text-align: right;\">\n",
       "      <th></th>\n",
       "      <th>Species name</th>\n",
       "      <th>family</th>\n",
       "      <th>Major group</th>\n",
       "    </tr>\n",
       "  </thead>\n",
       "  <tbody>\n",
       "    <tr>\n",
       "      <th>0</th>\n",
       "      <td>Pyrus</td>\n",
       "      <td>ROSACEAE</td>\n",
       "      <td>Angiosperm</td>\n",
       "    </tr>\n",
       "    <tr>\n",
       "      <th>2</th>\n",
       "      <td>Rosa</td>\n",
       "      <td>ROSACEAE</td>\n",
       "      <td>Angiosperm</td>\n",
       "    </tr>\n",
       "    <tr>\n",
       "      <th>7</th>\n",
       "      <td>Urtica</td>\n",
       "      <td>URTICACEAE</td>\n",
       "      <td>Angiosperm</td>\n",
       "    </tr>\n",
       "    <tr>\n",
       "      <th>8</th>\n",
       "      <td>Prunus</td>\n",
       "      <td>ROSACEAE</td>\n",
       "      <td>Angiosperm</td>\n",
       "    </tr>\n",
       "    <tr>\n",
       "      <th>9</th>\n",
       "      <td>Malus</td>\n",
       "      <td>ROSACEAE</td>\n",
       "      <td>Angiosperm</td>\n",
       "    </tr>\n",
       "  </tbody>\n",
       "</table>\n",
       "</div>"
      ],
      "text/plain": [
       "  Species name      family Major group\n",
       "0        Pyrus    ROSACEAE  Angiosperm\n",
       "2         Rosa    ROSACEAE  Angiosperm\n",
       "7       Urtica  URTICACEAE  Angiosperm\n",
       "8       Prunus    ROSACEAE  Angiosperm\n",
       "9        Malus    ROSACEAE  Angiosperm"
      ]
     },
     "execution_count": 162,
     "metadata": {},
     "output_type": "execute_result"
    }
   ],
   "source": [
    "genus_df['Major group'] = 'Angiosperm'\n",
    "\n",
    "genus_df.head()"
   ]
  },
  {
   "cell_type": "code",
   "execution_count": 163,
   "id": "df1932bf-e4a7-4443-9b4c-1754e245c317",
   "metadata": {},
   "outputs": [
    {
     "name": "stdout",
     "output_type": "stream",
     "text": [
      "susies-masters-genus.csv\n"
     ]
    }
   ],
   "source": [
    "new_file_name = '-'.join(file_name.split()[:-1] + ['genus.csv']).lower().replace(\"'\", \"\")\n",
    "\n",
    "print(new_file_name)\n",
    "\n",
    "genus_df.to_csv(ASSETS_DIR / new_file_name, index=False)"
   ]
  },
  {
   "cell_type": "code",
   "execution_count": null,
   "id": "af60797a-e2af-4386-9b67-c67b04f1f24f",
   "metadata": {},
   "outputs": [],
   "source": []
  }
 ],
 "metadata": {
  "kernelspec": {
   "display_name": "adept-igwYr31N-py3.9",
   "language": "python",
   "name": "adept-igwyr31n-py3.9"
  },
  "language_info": {
   "codemirror_mode": {
    "name": "ipython",
    "version": 3
   },
   "file_extension": ".py",
   "mimetype": "text/x-python",
   "name": "python",
   "nbconvert_exporter": "python",
   "pygments_lexer": "ipython3",
   "version": "3.9.13"
  }
 },
 "nbformat": 4,
 "nbformat_minor": 5
}
