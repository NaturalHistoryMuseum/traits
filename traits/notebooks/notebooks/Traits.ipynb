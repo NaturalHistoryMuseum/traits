{
 "cells": [
  {
   "cell_type": "code",
   "execution_count": 103,
   "metadata": {},
   "outputs": [],
   "source": [
    "from pathlib import Path\n",
    "import pandas as pd\n",
    "import spacy\n",
    "from spacy.pipeline import EntityRuler\n",
    "import mysql.connector as sql"
   ]
  },
  {
   "cell_type": "code",
   "execution_count": 104,
   "metadata": {},
   "outputs": [],
   "source": [
    "data_path = Path('../data')\n",
    "\n",
    "trait_patterns_file = data_path / 'trait_patterns.jsonl'"
   ]
  },
  {
   "cell_type": "code",
   "execution_count": 105,
   "metadata": {},
   "outputs": [],
   "source": [
    "df = pd.read_excel(data_path / 'terms and traits.xlsx')\n",
    "\n",
    "df.head()\n",
    "\n",
    "trait_field = 'term'"
   ]
  },
  {
   "cell_type": "code",
   "execution_count": 106,
   "metadata": {},
   "outputs": [],
   "source": [
    "db_connection = sql.connect(database='pup', user='root')\n",
    "\n",
    "df = pd.read_sql('SELECT * FROM pup_traits', con=db_connection)\n",
    "\n",
    "trait_field = 'trait_term'"
   ]
  },
  {
   "cell_type": "code",
   "execution_count": 107,
   "metadata": {},
   "outputs": [
    {
     "data": {
      "text/html": [
       "<div>\n",
       "<style scoped>\n",
       "    .dataframe tbody tr th:only-of-type {\n",
       "        vertical-align: middle;\n",
       "    }\n",
       "\n",
       "    .dataframe tbody tr th {\n",
       "        vertical-align: top;\n",
       "    }\n",
       "\n",
       "    .dataframe thead th {\n",
       "        text-align: right;\n",
       "    }\n",
       "</style>\n",
       "<table border=\"1\" class=\"dataframe\">\n",
       "  <thead>\n",
       "    <tr style=\"text-align: right;\">\n",
       "      <th></th>\n",
       "      <th>trait_id</th>\n",
       "      <th>trait_term</th>\n",
       "      <th>trait_character</th>\n",
       "      <th>trait_category</th>\n",
       "      <th>pup_term</th>\n",
       "      <th>comment</th>\n",
       "    </tr>\n",
       "  </thead>\n",
       "  <tbody>\n",
       "    <tr>\n",
       "      <th>0</th>\n",
       "      <td>2537</td>\n",
       "      <td>abaxial</td>\n",
       "      <td>tree</td>\n",
       "      <td>position</td>\n",
       "      <td>Growth form</td>\n",
       "      <td></td>\n",
       "    </tr>\n",
       "    <tr>\n",
       "      <th>1</th>\n",
       "      <td>2538</td>\n",
       "      <td>absent</td>\n",
       "      <td></td>\n",
       "      <td>quantity</td>\n",
       "      <td>Stem Pubescence</td>\n",
       "      <td></td>\n",
       "    </tr>\n",
       "    <tr>\n",
       "      <th>2</th>\n",
       "      <td>2539</td>\n",
       "      <td>absent</td>\n",
       "      <td></td>\n",
       "      <td>quantity</td>\n",
       "      <td>Leaf pubescence</td>\n",
       "      <td></td>\n",
       "    </tr>\n",
       "    <tr>\n",
       "      <th>3</th>\n",
       "      <td>2540</td>\n",
       "      <td>acaulescent</td>\n",
       "      <td>caespitose</td>\n",
       "      <td>architecture</td>\n",
       "      <td>Growth form</td>\n",
       "      <td></td>\n",
       "    </tr>\n",
       "    <tr>\n",
       "      <th>4</th>\n",
       "      <td>2541</td>\n",
       "      <td>acauline</td>\n",
       "      <td>caespitose</td>\n",
       "      <td>architecture</td>\n",
       "      <td>Growth form</td>\n",
       "      <td></td>\n",
       "    </tr>\n",
       "  </tbody>\n",
       "</table>\n",
       "</div>"
      ],
      "text/plain": [
       "   trait_id   trait_term trait_character trait_category         pup_term  \\\n",
       "0      2537      abaxial            tree       position      Growth form   \n",
       "1      2538       absent                       quantity  Stem Pubescence   \n",
       "2      2539       absent                       quantity  Leaf pubescence   \n",
       "3      2540  acaulescent      caespitose   architecture      Growth form   \n",
       "4      2541     acauline      caespitose   architecture      Growth form   \n",
       "\n",
       "  comment  \n",
       "0          \n",
       "1          \n",
       "2          \n",
       "3          \n",
       "4          "
      ]
     },
     "execution_count": 107,
     "metadata": {},
     "output_type": "execute_result"
    }
   ],
   "source": [
    "df.head()"
   ]
  },
  {
   "cell_type": "code",
   "execution_count": 110,
   "metadata": {},
   "outputs": [],
   "source": [
    "trait_ner = EntityRuler(nlp) \n",
    "\n",
    "patterns = [\n",
    "    {\n",
    "    'label': 'TRAIT',\n",
    "    'pattern':  [{'lower': 'petioles'}]\n",
    "    },\n",
    "    {\n",
    "    'label': 'TRAIT',\n",
    "    'pattern':  [{'lemma': 'leaf'}]\n",
    "    }, \n",
    "    {\n",
    "    'label': 'TRAIT',\n",
    "    'pattern':  [{'lower': 'leaves'}]\n",
    "    },  \n",
    "    {\n",
    "    'label': 'TRAIT',\n",
    "    'pattern':  [{'lower': 'flowering'}]\n",
    "    },     \n",
    "\n",
    "]\n",
    "\n",
    "\n",
    "df = df[df[trait_field].notnull()]\n",
    "\n",
    "for trait in df[trait_field]:\n",
    "    \n",
    "    trait_parts = trait.split('_')\n",
    "\n",
    "    patterns.append(\n",
    "        {'label': 'TRAIT', \n",
    "         'pattern': [{'lower': trait_part} for trait_part in trait_parts]\n",
    "        }\n",
    "    )\n",
    "\n",
    "        \n",
    "trait_ner.add_patterns(patterns)\n",
    "\n",
    "\n",
    "trait_ner.to_disk(trait_patterns_file)"
   ]
  },
  {
   "cell_type": "code",
   "execution_count": 118,
   "metadata": {},
   "outputs": [
    {
     "name": "stdout",
     "output_type": "stream",
     "text": [
      "4\n",
      "3\n",
      "2\n",
      "1\n",
      "0\n"
     ]
    }
   ],
   "source": [
    "\n",
    "\n",
    "for i in range(5-1, -1, -1):\n",
    "    print(i)"
   ]
  },
  {
   "cell_type": "code",
   "execution_count": null,
   "metadata": {},
   "outputs": [],
   "source": []
  }
 ],
 "metadata": {
  "kernelspec": {
   "display_name": "adept-igwYr31N-py3.9",
   "language": "python",
   "name": "adept-igwyr31n-py3.9"
  },
  "language_info": {
   "codemirror_mode": {
    "name": "ipython",
    "version": 3
   },
   "file_extension": ".py",
   "mimetype": "text/x-python",
   "name": "python",
   "nbconvert_exporter": "python",
   "pygments_lexer": "ipython3",
   "version": "3.9.10"
  }
 },
 "nbformat": 4,
 "nbformat_minor": 4
}
