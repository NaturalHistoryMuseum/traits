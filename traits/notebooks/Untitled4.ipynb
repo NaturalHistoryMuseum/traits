{
 "cells": [
  {
   "cell_type": "code",
   "execution_count": 96,
   "id": "c63bd567-4543-40f3-87e6-4410db646279",
   "metadata": {},
   "outputs": [],
   "source": [
    "import pandas as pd\n",
    "import numpy as np\n",
    "from pathlib import Path"
   ]
  },
  {
   "cell_type": "code",
   "execution_count": null,
   "id": "81c2dd2d-e1c0-4a76-b2b1-07f892c49207",
   "metadata": {},
   "outputs": [],
   "source": []
  },
  {
   "cell_type": "code",
   "execution_count": 98,
   "id": "64b229df-a29f-41e4-ac82-a8fa61cceca7",
   "metadata": {},
   "outputs": [],
   "source": [
    "file_name = 'susies-species-traits.xlsx'\n",
    "\n",
    "orig_df = pd.read_excel(Path('./', file_name))\n",
    "df = pd.read_excel(Path('./', file_name))"
   ]
  },
  {
   "cell_type": "code",
   "execution_count": 109,
   "id": "40a61fec-5801-4b11-9700-da5a296ee679",
   "metadata": {},
   "outputs": [
    {
     "name": "stdout",
     "output_type": "stream",
     "text": [
      "No species for  Eriobotrya bengalensis var. angustifolia\n",
      "No species for  Ficus trichocarpa Blume var. obtusa\n",
      "No species for  Pyrus communis var. sativa\n",
      "No species for  Rosa foetida var. persiana\n",
      "No species for  Rosa sambucina var. pubescens\n",
      "No species for  Ulmus androssowii Litvinov var. subhirsuta\n"
     ]
    }
   ],
   "source": [
    "# df = orig_df\n",
    "\n",
    "df = pd.read_excel(Path('./', file_name))\n",
    "\n",
    "# Cols we do not want to include from the var description\n",
    "plant_reset_cols = df.columns[6:8]\n",
    "\n",
    "re_var = re.compile(r'\\svar.?\\s')\n",
    "    \n",
    "for i, row in df.iterrows():\n",
    "    \n",
    "    # Is this a variety? \n",
    "    if pd.isnull(row.taxon):\n",
    "        continue\n",
    "        \n",
    "    is_var = re_var.search(row.taxon)\n",
    "    \n",
    "    if is_var:\n",
    "        \n",
    "        for c in plant_reset_cols:\n",
    "            df.loc[i, c] = np.nan\n",
    "\n",
    "        species_name = re_var.split(row.taxon)[0]  \n",
    "        \n",
    "        try:\n",
    "            species = df[df.taxon == species_name].iloc[0]\n",
    "        except IndexError:\n",
    "            print('No species for ', row.taxon)\n",
    "            continue\n",
    "        \n",
    "        for col, value in species[species.notna()].items():\n",
    "            # Does the original have a value\n",
    "            if pd.isnull(df.loc[i, col]):\n",
    "                df.loc[i, col] = value\n",
    "\n",
    "            \n",
    "    \n",
    "            \n"
   ]
  },
  {
   "cell_type": "code",
   "execution_count": 110,
   "id": "b82b5465-829b-4136-8a05-67a44189c17a",
   "metadata": {},
   "outputs": [],
   "source": [
    "output_path = Path('./', f'v2-{file_name}')\n",
    "\n",
    "writer = pd.ExcelWriter(output_path, engine = 'xlsxwriter')\n",
    "df.to_excel(writer, sheet_name = 'corrected')\n",
    "orig_df.to_excel(writer, sheet_name = 'original')\n",
    "writer.save()"
   ]
  },
  {
   "cell_type": "code",
   "execution_count": 111,
   "id": "5190ce0c-3c1c-49d2-9a13-b86784cfdbf2",
   "metadata": {},
   "outputs": [
    {
     "data": {
      "text/plain": [
       "<re.Match object; span=(19, 25), match=' var. '>"
      ]
     },
     "execution_count": 111,
     "metadata": {},
     "output_type": "execute_result"
    }
   ],
   "source": [
    "re_var = re.compile(r'\\svar.?\\s')\n",
    "\n",
    "re_var.search('Amygdalus davidiana var. davidiana')"
   ]
  },
  {
   "cell_type": "code",
   "execution_count": 85,
   "id": "98a14774-c455-4183-b89a-4e2c68d7218a",
   "metadata": {},
   "outputs": [
    {
     "name": "stdout",
     "output_type": "stream",
     "text": [
      "Collecting xlsxwriter\n",
      "  Downloading XlsxWriter-3.0.3-py3-none-any.whl (149 kB)\n",
      "\u001b[K     |████████████████████████████████| 149 kB 2.3 MB/s eta 0:00:01\n",
      "\u001b[?25hInstalling collected packages: xlsxwriter\n",
      "Successfully installed xlsxwriter-3.0.3\n",
      "\u001b[33mWARNING: You are using pip version 21.2.4; however, version 22.1.2 is available.\n",
      "You should consider upgrading via the '/Users/ben/Library/Caches/pypoetry/virtualenvs/adept-igwYr31N-py3.9/bin/python -m pip install --upgrade pip' command.\u001b[0m\n"
     ]
    }
   ],
   "source": [
    "!pip install xlsxwriter"
   ]
  },
  {
   "cell_type": "code",
   "execution_count": null,
   "id": "b18baab2-3ff0-4434-b1f3-74dc4e1686b9",
   "metadata": {},
   "outputs": [],
   "source": []
  }
 ],
 "metadata": {
  "kernelspec": {
   "display_name": "adept-igwYr31N-py3.9",
   "language": "python",
   "name": "adept-igwyr31n-py3.9"
  },
  "language_info": {
   "codemirror_mode": {
    "name": "ipython",
    "version": 3
   },
   "file_extension": ".py",
   "mimetype": "text/x-python",
   "name": "python",
   "nbconvert_exporter": "python",
   "pygments_lexer": "ipython3",
   "version": "3.9.13"
  }
 },
 "nbformat": 4,
 "nbformat_minor": 5
}
