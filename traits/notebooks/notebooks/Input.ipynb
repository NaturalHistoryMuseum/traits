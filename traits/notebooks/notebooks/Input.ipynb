{
 "cells": [
  {
   "cell_type": "code",
   "execution_count": 8,
   "metadata": {},
   "outputs": [
    {
     "name": "stdout",
     "output_type": "stream",
     "text": [
      "The autoreload extension is already loaded. To reload it, use:\n",
      "  %reload_ext autoreload\n"
     ]
    }
   ],
   "source": [
    "%load_ext autoreload\n",
    "%autoreload 2\n",
    "\n",
    "from IPython.display import display\n",
    "from IPython.core.display import HTML\n",
    "from ipywidgets import Text, Button, Output\n",
    "from spacy import displacy\n",
    "from halo import HaloNotebook as Halo\n",
    "import pandas as pd\n",
    "\n",
    "from leventis.parse_page import ParsePage\n",
    "\n",
    "from ipywidgets import widgets\n"
   ]
  },
  {
   "cell_type": "code",
   "execution_count": 2,
   "metadata": {},
   "outputs": [
    {
     "data": {
      "text/html": [
       "<style>\n",
       ".output_wrapper, .output {\n",
       "    height:auto !important;\n",
       "}\n",
       ".output_scroll {\n",
       "    box-shadow:none !important;\n",
       "    webkit-box-shadow:none !important;\n",
       "}\n",
       "</style>\n"
      ],
      "text/plain": [
       "<IPython.core.display.HTML object>"
      ]
     },
     "metadata": {},
     "output_type": "display_data"
    }
   ],
   "source": [
    "%%html\n",
    "<style>\n",
    ".output_wrapper, .output {\n",
    "    height:auto !important;\n",
    "}\n",
    ".output_scroll {\n",
    "    box-shadow:none !important;\n",
    "    webkit-box-shadow:none !important;\n",
    "}\n",
    "</style>\n"
   ]
  },
  {
   "cell_type": "code",
   "execution_count": 3,
   "metadata": {},
   "outputs": [],
   "source": [
    "page_id = widgets.Text(\n",
    "    description = \"Page ID\",\n",
    "    value='30088008'\n",
    ")\n",
    "\n",
    "button = widgets.Button(description=\"Extract traits\")\n",
    "\n",
    "output = widgets.Output()"
   ]
  },
  {
   "cell_type": "code",
   "execution_count": 4,
   "metadata": {},
   "outputs": [],
   "source": [
    "def validate():\n",
    "    return len(page_id.value) > 4\n",
    "    \n",
    "\n",
    "@output.capture(clear_output=True)\n",
    "def submit(change):\n",
    "\n",
    "    colors = {\"TRAIT\": \"linear-gradient(90deg, gold, yellow)\", \"TAXON\": \"linear-gradient(90deg, lime, aquamarine)\"}\n",
    "    options = {\"colors\": colors}    \n",
    "            \n",
    "    if validate():\n",
    "#         spinner = Halo(text='Reading and extracting traits from page.', spinner='dots')\n",
    "        \n",
    "        try:\n",
    "#             spinner.start()\n",
    "            page = ParsePage(page_id.value)\n",
    "            display(HTML(displacy.render(page.doc, style=\"ent\", options=options)))\n",
    "\n",
    "            df = pd.DataFrame(zip(page.traits.keys(), page.traits.values()), columns=['Taxon', 'Traits'])\n",
    "    \n",
    "\n",
    "            display(HTML(df.to_html()))\n",
    "\n",
    "#             spinner.stop()\n",
    "        except (KeyboardInterrupt, SystemExit):\n",
    "#             spinner.stop()\n",
    "            pass\n",
    "    \n",
    "    else:\n",
    "        print('Please enter a page ID')\n",
    "        \n",
    "\n",
    "        \n",
    "    \n",
    "\n",
    "    \n",
    "    \n"
   ]
  },
  {
   "cell_type": "code",
   "execution_count": 5,
   "metadata": {},
   "outputs": [
    {
     "data": {
      "application/vnd.jupyter.widget-view+json": {
       "model_id": "57b6cfbae1da4090bbfb7ba51c6e8ae6",
       "version_major": 2,
       "version_minor": 0
      },
      "text/plain": [
       "HBox(children=(Text(value='30088008', description='Page ID'), Button(description='Extract traits', style=Butto…"
      ]
     },
     "metadata": {},
     "output_type": "display_data"
    },
    {
     "data": {
      "application/vnd.jupyter.widget-view+json": {
       "model_id": "e4444b1c31994fe0b957d3d2ac5b896b",
       "version_major": 2,
       "version_minor": 0
      },
      "text/plain": [
       "Output()"
      ]
     },
     "metadata": {},
     "output_type": "display_data"
    }
   ],
   "source": [
    "button.on_click(submit)\n",
    "page_id.on_submit(submit)\n",
    "\n",
    "display(widgets.HBox([page_id, button]))\n",
    "display(output)\n",
    "\n",
    "\n",
    "\n"
   ]
  },
  {
   "cell_type": "code",
   "execution_count": null,
   "metadata": {},
   "outputs": [],
   "source": []
  }
 ],
 "metadata": {
  "kernelspec": {
   "display_name": "PUP",
   "language": "python",
   "name": "pup"
  },
  "language_info": {
   "codemirror_mode": {
    "name": "ipython",
    "version": 3
   },
   "file_extension": ".py",
   "mimetype": "text/x-python",
   "name": "python",
   "nbconvert_exporter": "python",
   "pygments_lexer": "ipython3",
   "version": "3.6.5"
  }
 },
 "nbformat": 4,
 "nbformat_minor": 2
}
