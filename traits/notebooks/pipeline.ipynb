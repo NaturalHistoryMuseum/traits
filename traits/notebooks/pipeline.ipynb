{
 "cells": [
  {
   "cell_type": "code",
   "execution_count": 1,
   "id": "6a9832b4-ddb0-44fa-bfe9-a63ee9736b73",
   "metadata": {},
   "outputs": [],
   "source": [
    "from IPython.lib.deepreload import reload\n",
    "%load_ext autoreload\n",
    "%autoreload 2"
   ]
  },
  {
   "cell_type": "code",
   "execution_count": 2,
   "id": "9af71850-59b7-4c07-9b6b-f47f56f2d56c",
   "metadata": {},
   "outputs": [],
   "source": [
    "import spacy\n",
    "from spacy import displacy\n",
    "\n",
    "from adept.preprocess import preprocessors\n",
    "from adept.components.registry import ComponentsRegistry\n",
    "from adept.components.sentencizer import Sentencizer"
   ]
  },
  {
   "cell_type": "code",
   "execution_count": 3,
   "id": "09404f74-201a-4ef4-bd5e-1492f503315b",
   "metadata": {},
   "outputs": [],
   "source": [
    "nlp = spacy.load(\"en_core_web_trf\", exclude=[\"parser\"])"
   ]
  },
  {
   "cell_type": "code",
   "execution_count": 4,
   "id": "4bb5bea0-56d6-4501-96d2-d85be9c9dc3a",
   "metadata": {},
   "outputs": [
    {
     "name": "stdout",
     "output_type": "stream",
     "text": [
      "INIT custom_sentencizer\n"
     ]
    }
   ],
   "source": [
    "registry = ComponentsRegistry(nlp)\n",
    "registry.add_components([\n",
    "    Sentencizer,\n",
    "    # PeriodSentencizer\n",
    "])"
   ]
  },
  {
   "cell_type": "code",
   "execution_count": null,
   "id": "d33494ce-333f-4045-a64c-8df041e13888",
   "metadata": {},
   "outputs": [],
   "source": [
    "# doc = nlp(text)\n",
    "\n",
    "doc = registry.nlp(text)"
   ]
  },
  {
   "cell_type": "code",
   "execution_count": 7,
   "id": "58117402-59ae-4eb9-b5e5-686c1b3c1fcb",
   "metadata": {},
   "outputs": [
    {
     "name": "stdout",
     "output_type": "stream",
     "text": [
      "Perennials, 6-65+ cm (usually rhizomatous, sometimes stoloniferous).\n",
      "Stems 1(-4), erect, simple or branched, densely lanate-tomentose to glabrate.\n",
      "Leaves petiolate (proximally) or sessile (distally, weakly clasping and gradually reduced);\n",
      "blades oblong or lanceolate, 3.5-35+ cm × 5-35 mm, 1-2-pinnately lobed (ultimate lobes ± lanceolate, often arrayed in multiple planes), faces glabrate to sparsely tomentose or densely lanate.\n",
      "Heads 10-100+, in simple or compound, corymbiform arrays.\n",
      "Phyllaries 20-30 in ± 3 series, (light green, midribs dark green to yellowish, margins green to light or dark brown) ovate to lanceolate, abaxial faces tomentose.\n",
      "Receptacles convex;\n",
      "paleae lanceolate, 1.5-4 mm.\n",
      "Ray florets (3-)5-8, pistillate, fertile;\n",
      "corollas white or light pink to deep purple, laminae 1.5-3 × 1.5-3 mm.\n",
      "Disc florets 10-20;\n",
      "corollas white to grayish white, 2-4.5 mm.\n",
      "Cypselae 1-2 mm (margins broadly winged).\n",
      "2n = 18, 27, 36, 45, 54, 63, 72 (including counts from Europe).\n",
      "Morphologic characters that have been used to segregate these populations into species and/or varieties include: (1) degree and persistence of tomentum;\n",
      "(2) phyllaries with greenish, light brown, or dark brown margins;\n",
      "(3) shapes of capitulescences (rounded or flat-topped);\n",
      "and (4) degrees of leaf dissection and shapes of lobes.\n"
     ]
    }
   ],
   "source": [
    "for sent in doc.sents:\n",
    "    print(sent)"
   ]
  },
  {
   "cell_type": "code",
   "execution_count": 73,
   "id": "e528445a-35c6-409a-84b9-bd5dd20f1b43",
   "metadata": {},
   "outputs": [
    {
     "data": {
      "text/plain": [
       "['1', '2', '3', '3', '4', '5', '6', '7', '8']"
      ]
     },
     "execution_count": 73,
     "metadata": {},
     "output_type": "execute_result"
    }
   ],
   "source": [
    "from itertools import chain\n",
    "\n",
    "x = ['1', '2;3', '3;4;5', '6', '7;8']\n",
    "\n",
    "list(chain(*[s.split(';') for s in x]))"
   ]
  },
  {
   "cell_type": "code",
   "execution_count": 148,
   "id": "21b51f9f-ab4c-4368-bb70-cb6c3c7b06e4",
   "metadata": {},
   "outputs": [],
   "source": [
    "t = [1,2,3,4,5,6,7,8]\n",
    "split_points = [3, 6]\n",
    "\n"
   ]
  },
  {
   "cell_type": "code",
   "execution_count": 152,
   "id": "b4951957-defa-4462-8c01-1bcd34549420",
   "metadata": {},
   "outputs": [
    {
     "name": "stdout",
     "output_type": "stream",
     "text": [
      "[[1, 2, 3], [4, 5, 6], [7, 8]]\n"
     ]
    }
   ],
   "source": [
    "\n",
    "# :3\n",
    "# 3:6\n",
    "# 6:\n",
    "\n",
    "\n",
    "\n",
    "    \n",
    "\n",
    "    \n",
    "    "
   ]
  },
  {
   "cell_type": "code",
   "execution_count": 8,
   "id": "03fe5458-8bb2-466f-9f32-cd059a5eb1c0",
   "metadata": {},
   "outputs": [],
   "source": [
    "from adept.config import ADEPT_DIR"
   ]
  },
  {
   "cell_type": "code",
   "execution_count": 9,
   "id": "da1ab805-301e-4d79-99f9-fc4676adda2e",
   "metadata": {},
   "outputs": [],
   "source": [
    "import yaml"
   ]
  },
  {
   "cell_type": "code",
   "execution_count": 19,
   "id": "ad76c675-f99e-41f8-a8d0-44b7625c30ea",
   "metadata": {},
   "outputs": [],
   "source": [
    "spacy_config = yaml.safe_load((ADEPT_DIR / 'project.yml').open()).get('vars', {})"
   ]
  },
  {
   "cell_type": "code",
   "execution_count": 20,
   "id": "aa8628a7-e32e-40dc-9dea-c2e4539238c0",
   "metadata": {},
   "outputs": [
    {
     "data": {
      "text/plain": [
       "'traits.jsonl'"
      ]
     },
     "execution_count": 20,
     "metadata": {},
     "output_type": "execute_result"
    }
   ],
   "source": [
    "spacy_config['file']['traits']"
   ]
  },
  {
   "cell_type": "code",
   "execution_count": 21,
   "id": "3fcb771b-da6c-4e45-b5a8-523ad974eaec",
   "metadata": {},
   "outputs": [],
   "source": [
    "nlp = spacy.load(\"en_core_web_trf\")"
   ]
  },
  {
   "cell_type": "code",
   "execution_count": 31,
   "id": "f824e06e-eee1-4ee2-8f22-35e1ce8c3f94",
   "metadata": {},
   "outputs": [
    {
     "name": "stdout",
     "output_type": "stream",
     "text": [
      "INIT numeric\n"
     ]
    },
    {
     "data": {
      "text/html": [
       "<span class=\"tex2jax_ignore\"><div class=\"entities\" style=\"line-height: 2.5; direction: ltr\">Herbs, perennial, \n",
       "<mark class=\"entity\" style=\"background: #ddd; padding: 0.45em 0.6em; margin: 0 0.25em; line-height: 1; border-radius: 0.35em;\">\n",
       "    40-100 cm\n",
       "    <span style=\"font-size: 0.8em; font-weight: bold; line-height: 1; border-radius: 0.35em; vertical-align: middle; margin-left: 0.5rem\">QUANTITYX</span>\n",
       "</mark>\n",
       " tall, with long rhizomes; stems erect, unbranched or branched in upper part, often with short sterile branches at leaf axils above middle, striate, usually white villous. Leaves sessile; leaf blade lanceolate, oblong-lanceolate, or sublinear, \n",
       "<mark class=\"entity\" style=\"background: #ddd; padding: 0.45em 0.6em; margin: 0 0.25em; line-height: 1; border-radius: 0.35em;\">\n",
       "    5-20 x 1-2.5 cm\n",
       "    <span style=\"font-size: 0.8em; font-weight: bold; line-height: 1; border-radius: 0.35em; vertical-align: middle; margin-left: 0.5rem\">QUANTITYX</span>\n",
       "</mark>\n",
       ", \n",
       "<mark class=\"entity\" style=\"background: #ddd; padding: 0.45em 0.6em; margin: 0 0.25em; line-height: 1; border-radius: 0.35em;\">\n",
       "    (2\n",
       "    <span style=\"font-size: 0.8em; font-weight: bold; line-height: 1; border-radius: 0.35em; vertical-align: middle; margin-left: 0.5rem\">CARDINALX</span>\n",
       "</mark>\n",
       " or)3-pinnatisect, abaxially densely villous, adaxially densely depressed glandular punctuate; ultimate segments lanceolate to linear, \n",
       "<mark class=\"entity\" style=\"background: #e4e7d2; padding: 0.45em 0.6em; margin: 0 0.25em; line-height: 1; border-radius: 0.35em;\">\n",
       "    0.5-1.5 x 0.3-0.5 mm\n",
       "    <span style=\"font-size: 0.8em; font-weight: bold; line-height: 1; border-radius: 0.35em; vertical-align: middle; margin-left: 0.5rem\">QUANTITY</span>\n",
       "</mark>\n",
       ", apex cartilaginous-mucronulate. Synflorescence a terminal flat-topped panicle \n",
       "<mark class=\"entity\" style=\"background: #e4e7d2; padding: 0.45em 0.6em; margin: 0 0.25em; line-height: 1; border-radius: 0.35em;\">\n",
       "    2-6 cm\n",
       "    <span style=\"font-size: 0.8em; font-weight: bold; line-height: 1; border-radius: 0.35em; vertical-align: middle; margin-left: 0.5rem\">QUANTITY</span>\n",
       "</mark>\n",
       " in diam. Capitula many. Involucres oblong or subovoid, \n",
       "<mark class=\"entity\" style=\"background: #ddd; padding: 0.45em 0.6em; margin: 0 0.25em; line-height: 1; border-radius: 0.35em;\">\n",
       "    ca. 4 x 3 mm\n",
       "    <span style=\"font-size: 0.8em; font-weight: bold; line-height: 1; border-radius: 0.35em; vertical-align: middle; margin-left: 0.5rem\">QUANTITYX</span>\n",
       "</mark>\n",
       "; phyllaries in \n",
       "<mark class=\"entity\" style=\"background: #e4e7d2; padding: 0.45em 0.6em; margin: 0 0.25em; line-height: 1; border-radius: 0.35em;\">\n",
       "    3\n",
       "    <span style=\"font-size: 0.8em; font-weight: bold; line-height: 1; border-radius: 0.35em; vertical-align: middle; margin-left: 0.5rem\">CARDINAL</span>\n",
       "</mark>\n",
       " rows, elliptic or oblong, \n",
       "<mark class=\"entity\" style=\"background: #ddd; padding: 0.45em 0.6em; margin: 0 0.25em; line-height: 1; border-radius: 0.35em;\">\n",
       "    1.5-3 x 1-1.3 mm\n",
       "    <span style=\"font-size: 0.8em; font-weight: bold; line-height: 1; border-radius: 0.35em; vertical-align: middle; margin-left: 0.5rem\">QUANTITYX</span>\n",
       "</mark>\n",
       ", scarious margin pale yellow or brown; midvein convex. Paleae oblong-elliptic, scarious, abaxially yellow gland-dotted. Ray florets \n",
       "<mark class=\"entity\" style=\"background: #ddd; padding: 0.45em 0.6em; margin: 0 0.25em; line-height: 1; border-radius: 0.35em;\">\n",
       "    5\n",
       "    <span style=\"font-size: 0.8em; font-weight: bold; line-height: 1; border-radius: 0.35em; vertical-align: middle; margin-left: 0.5rem\">CARDINALX</span>\n",
       "</mark>\n",
       "; lamina white, pink, or violet-red, suborbicular, \n",
       "<mark class=\"entity\" style=\"background: #ddd; padding: 0.45em 0.6em; margin: 0 0.25em; line-height: 1; border-radius: 0.35em;\">\n",
       "    1.5-3 x 2-2.5 mm\n",
       "    <span style=\"font-size: 0.8em; font-weight: bold; line-height: 1; border-radius: 0.35em; vertical-align: middle; margin-left: 0.5rem\">QUANTITYX</span>\n",
       "</mark>\n",
       ", apex \n",
       "<mark class=\"entity\" style=\"background: #ddd; padding: 0.45em 0.6em; margin: 0 0.25em; line-height: 1; border-radius: 0.35em;\">\n",
       "    2-\n",
       "    <span style=\"font-size: 0.8em; font-weight: bold; line-height: 1; border-radius: 0.35em; vertical-align: middle; margin-left: 0.5rem\">CARDINALX</span>\n",
       "</mark>\n",
       " or \n",
       "<mark class=\"entity\" style=\"background: #ddd; padding: 0.45em 0.6em; margin: 0 0.25em; line-height: 1; border-radius: 0.35em;\">\n",
       "    3-\n",
       "    <span style=\"font-size: 0.8em; font-weight: bold; line-height: 1; border-radius: 0.35em; vertical-align: middle; margin-left: 0.5rem\">CARDINALX</span>\n",
       "</mark>\n",
       "denticulate. Disk florets yellow, tubular, \n",
       "<mark class=\"entity\" style=\"background: #e4e7d2; padding: 0.45em 0.6em; margin: 0 0.25em; line-height: 1; border-radius: 0.35em;\">\n",
       "    2.2-3 mm\n",
       "    <span style=\"font-size: 0.8em; font-weight: bold; line-height: 1; border-radius: 0.35em; vertical-align: middle; margin-left: 0.5rem\">QUANTITY</span>\n",
       "</mark>\n",
       ", exterior gland-dotted, apex \n",
       "<mark class=\"entity\" style=\"background: #ddd; padding: 0.45em 0.6em; margin: 0 0.25em; line-height: 1; border-radius: 0.35em;\">\n",
       "    5-\n",
       "    <span style=\"font-size: 0.8em; font-weight: bold; line-height: 1; border-radius: 0.35em; vertical-align: middle; margin-left: 0.5rem\">CARDINALX</span>\n",
       "</mark>\n",
       "lobed. Achenes greenish, oblong, \n",
       "<mark class=\"entity\" style=\"background: #ddd; padding: 0.45em 0.6em; margin: 0 0.25em; line-height: 1; border-radius: 0.35em;\">\n",
       "    ca. 2 mm\n",
       "    <span style=\"font-size: 0.8em; font-weight: bold; line-height: 1; border-radius: 0.35em; vertical-align: middle; margin-left: 0.5rem\">QUANTITYX</span>\n",
       "</mark>\n",
       ", with white lateral ribs. Corona absent. flower. and fruit. \n",
       "<mark class=\"entity\" style=\"background: #bfe1d9; padding: 0.45em 0.6em; margin: 0 0.25em; line-height: 1; border-radius: 0.35em;\">\n",
       "    Jul-Sep. 2n\n",
       "    <span style=\"font-size: 0.8em; font-weight: bold; line-height: 1; border-radius: 0.35em; vertical-align: middle; margin-left: 0.5rem\">DATE</span>\n",
       "</mark>\n",
       " = \n",
       "<mark class=\"entity\" style=\"background: #e4e7d2; padding: 0.45em 0.6em; margin: 0 0.25em; line-height: 1; border-radius: 0.35em;\">\n",
       "    18\n",
       "    <span style=\"font-size: 0.8em; font-weight: bold; line-height: 1; border-radius: 0.35em; vertical-align: middle; margin-left: 0.5rem\">CARDINAL</span>\n",
       "</mark>\n",
       ", \n",
       "<mark class=\"entity\" style=\"background: #ddd; padding: 0.45em 0.6em; margin: 0 0.25em; line-height: 1; border-radius: 0.35em;\">\n",
       "    27\n",
       "    <span style=\"font-size: 0.8em; font-weight: bold; line-height: 1; border-radius: 0.35em; vertical-align: middle; margin-left: 0.5rem\">CARDINALX</span>\n",
       "</mark>\n",
       ", \n",
       "<mark class=\"entity\" style=\"background: #ddd; padding: 0.45em 0.6em; margin: 0 0.25em; line-height: 1; border-radius: 0.35em;\">\n",
       "    36 + 0-2B\n",
       "    <span style=\"font-size: 0.8em; font-weight: bold; line-height: 1; border-radius: 0.35em; vertical-align: middle; margin-left: 0.5rem\">CARDINALX</span>\n",
       "</mark>\n",
       ", \n",
       "<mark class=\"entity\" style=\"background: #ddd; padding: 0.45em 0.6em; margin: 0 0.25em; line-height: 1; border-radius: 0.35em;\">\n",
       "    45\n",
       "    <span style=\"font-size: 0.8em; font-weight: bold; line-height: 1; border-radius: 0.35em; vertical-align: middle; margin-left: 0.5rem\">CARDINALX</span>\n",
       "</mark>\n",
       ", \n",
       "<mark class=\"entity\" style=\"background: #ddd; padding: 0.45em 0.6em; margin: 0 0.25em; line-height: 1; border-radius: 0.35em;\">\n",
       "    54 + 0-3B\n",
       "    <span style=\"font-size: 0.8em; font-weight: bold; line-height: 1; border-radius: 0.35em; vertical-align: middle; margin-left: 0.5rem\">CARDINALX</span>\n",
       "</mark>\n",
       ", \n",
       "<mark class=\"entity\" style=\"background: #e4e7d2; padding: 0.45em 0.6em; margin: 0 0.25em; line-height: 1; border-radius: 0.35em;\">\n",
       "    72\n",
       "    <span style=\"font-size: 0.8em; font-weight: bold; line-height: 1; border-radius: 0.35em; vertical-align: middle; margin-left: 0.5rem\">CARDINAL</span>\n",
       "</mark>\n",
       ".</div></span>"
      ],
      "text/plain": [
       "<IPython.core.display.HTML object>"
      ]
     },
     "metadata": {},
     "output_type": "display_data"
    },
    {
     "name": "stdout",
     "output_type": "stream",
     "text": [
      "[('Herbs, perennial, 40-100 cm tall, with long rhizomes; stems erect, unbranched or branched in upper part, often with short sterile branches at leaf axils above middle, striate, usually white villous.', [[4, 8, 'QUANTITYX']]), ('Leaves sessile; leaf blade lanceolate, oblong-lanceolate, or sublinear, 5-20 x 1-2.5 cm, (2 or)3-pinnatisect, abaxially densely villous, adaxially densely depressed glandular punctuate; ultimate segments lanceolate to linear, 0.5-1.5 x 0.3-0.5 mm, apex cartilaginous-mucronulate.', [[55, 63, 'QUANTITYX'], [64, 66, 'CARDINALX'], [86, 94, 'QUANTITY']]), ('Involucres oblong or subovoid, ca.', []), ('4 x 3 mm; phyllaries in 3 rows, elliptic or oblong, 1.5-3 x 1-1.3 mm, scarious margin pale yellow or brown; midvein convex.', [[131, 132, 'CARDINAL'], [138, 146, 'QUANTITYX']]), ('Ray florets 5; lamina white, pink, or violet-red, suborbicular, 1.5-3 x 2-2.5 mm, apex 2- or 3-denticulate.', [[172, 173, 'CARDINALX'], [186, 194, 'QUANTITYX'], [196, 197, 'CARDINALX'], [198, 200, 'CARDINALX']]), ('Disk florets yellow, tubular, 2.2-3 mm, exterior gland-dotted, apex 5-lobed.', [[208, 212, 'QUANTITY'], [219, 221, 'CARDINALX']]), ('Achenes greenish, oblong, ca.', []), ('Jul-Sep. 2n = 18, 27, 36 + 0-2B, 45, 54 + 0-3B, 72.', [[246, 250, 'DATE'], [251, 252, 'CARDINAL'], [253, 254, 'CARDINALX'], [255, 260, 'CARDINALX'], [261, 262, 'CARDINALX'], [263, 268, 'CARDINALX'], [269, 270, 'CARDINAL']])]\n"
     ]
    }
   ],
   "source": [
    "from spacy.pipeline import EntityRuler\n",
    "from adept.components.base import BaseComponent\n",
    "from pathlib import Path\n",
    "from adept.config import CORPUS_DIR, spacy_config\n",
    "from adept.utils.expand import ExpandSpan\n",
    "import enum\n",
    "\n",
    "from spacy.matcher import Matcher\n",
    "from spacy.tokens import Span, Token\n",
    "from adept.config import unit_registry\n",
    "from spacy.util import filter_spans\n",
    "from spacy.tokens import Span, Token, Doc\n",
    "\n",
    "\n",
    "class ExpandSpan():\n",
    "    \n",
    "    \"\"\"\n",
    "    Expand span, so it incorporates neighbouring tokens with characters or pos_tag\n",
    "    \"\"\"\n",
    "    \n",
    "    class Direction(enum.Enum):\n",
    "        FORWARD = 1\n",
    "        BACKWARD = -1     \n",
    "    \n",
    "    def __init__(self, characters: list, pos_tags: list = None, entity_types: list = None):\n",
    "        self.characters = characters\n",
    "        self.pos_tags = pos_tags if pos_tags else []\n",
    "        self.entity_types = entity_types if entity_types else []\n",
    "        \n",
    "    def __call__(self, doc: Doc, token: Token):\n",
    "        end_token = self._expand(doc, token, direction=self.Direction.FORWARD)\n",
    "        start_token = self._expand(doc, token, direction=self.Direction.BACKWARD)\n",
    "        return Span(doc, start_token.i, end_token.i + 1) \n",
    "    \n",
    "    def _expand(self, doc: Doc, token: Token, direction):    \n",
    "        i = token.i\n",
    "        while True:\n",
    "            next_i = i + direction.value\n",
    "            \n",
    "            # Do not look beyond the edges of the doc\n",
    "            if next_i >= len(doc) or next_i < 0:\n",
    "                break\n",
    "\n",
    "            next_token = doc[next_i]            \n",
    "            if self._is_matching_token(next_token):\n",
    "                # Fix 6-65+ cm (usually rhizomatous                 \n",
    "                if direction==self.Direction.FORWARD and next_token.text == '(' and not self._is_matching_token(doc[next_token.i + direction.value]):\n",
    "                    break\n",
    "                    \n",
    "                i = next_token.i\n",
    "            else:\n",
    "                break\n",
    "        \n",
    "        return doc[i]\n",
    "    \n",
    "    def _is_matching_token(self, token: Token):\n",
    "        return token.lower_ in self.characters or token.pos_ in self.pos_tags or token.ent_type_ in self.entity_types \n",
    "    \n",
    "\n",
    "class Numeric(BaseComponent):\n",
    "    \n",
    "    name = \"numeric\"\n",
    "    \n",
    "    numeric_entity_types = ['QUANTITY', 'CARDINAL']\n",
    "    \n",
    "   \n",
    "    \n",
    "    def __init__(self, nlp):                 \n",
    "\n",
    "        super().__init__(nlp)\n",
    "        self.matcher = Matcher(nlp.vocab)          \n",
    "        self.matcher.add('NUMERIC', [[{\"POS\": \"NUM\"}]]) \n",
    "        \n",
    "        Span.set_extension(\"is_modified_numeric\", default=None, force=True)\n",
    "        \n",
    "        \n",
    "    def __call__(self, doc):\n",
    "        \n",
    "        ents = set()\n",
    "        orig_ents = set(doc.ents)\n",
    "        \n",
    "        expand_numeric = ExpandSpan(\n",
    "            ['-', '(', ')', '+', 'cm', 'mm', 'm', '×', 'x', ('ca', '.')], \n",
    "            pos_tags=['NUM'],\n",
    "            entity_types=['QUANTITY', 'CARDINAL']\n",
    "        )\n",
    "        \n",
    "        for _, start, end in self.matcher(doc):\n",
    "            token = doc[start]\n",
    "            # if not token.ent_type_ in self.numeric_entity_types:                \n",
    "            span = expand_numeric(doc, token)            \n",
    "            has_unit = [t for t in span if t.lower_ in ['mm', 'cm', 'm']]\n",
    "            \n",
    "            label = 'QUANTITYX' if has_unit else 'CARDINALX'\n",
    "\n",
    "            ent = Span(doc, span.start, span.end, label=label)\n",
    "      \n",
    "            ents.add(ent)\n",
    "            \n",
    "        combined_ents = set(filter_spans(ents | orig_ents))                        \n",
    "        doc.ents = combined_ents\n",
    "        \n",
    "        # Get all the new ents, and label the sent as a training sent         \n",
    "        new_ents = combined_ents.difference(orig_ents)\n",
    "        \n",
    "        for new_ent in new_ents:\n",
    "            new_ent.sent._.is_modified_numeric = True\n",
    "        \n",
    "        return doc\n",
    "                                  \n",
    "                                        \n",
    "            \n",
    "ner = Numeric(nlp)\n",
    "\n",
    "# text = 'A glabrous perennial 15-30(-40) cm. Rhizomes far-creeping producing tufts of 1-3 shoots at ± regular intervals. Roots pale yellow-brown. Scales grey brown, often tinged wine red, soon becoming fibrous.           Stems trigonous, smooth below, rough above, ± decumbent at base. Lvs 12-40 x 2-4 mm, concave, often curved, thick, bluntly keeled or channelled, gradually tapering to a trigonous point up to 5 cm long, mid green, ± shiny. Ligule 1-4 mm, broadly ovate or almost truncate. Lower sheaths lfless, persistent, thick, white, tinged with red. Infl 1/5-1/4 lngth of stem. Lower bract lf-like, about as long as infl, not sheathing, upper glumaceous.  Male spike 1(-2), 10-15 x 3 mm, fusiform. Male glumes 3-4 mm, ovate, acute or obtuse, dark purple-black with hyaline margin. Female spikes 1-2(-3), ± contiguous, (5-)10-15(-20) x 4-5 mm, ovoid or subglobose, erect, lower peduncled, upper ±  sessile. Female glumes 2-3 mm, ovate, acute, dark purplish-brown with pale midrib and hyaline margin, shorter than fr.  Utricle 3-3.5 mm, smooth, ±          inflated, dark purple green in upper half, shiny. Beak 0.5 mm, ±          notched. Stigmas 2, rarely 3. Nut 2 mm, subglobose.' \n",
    "text = \"Herbs, perennial, 40-100 cm tall, with long rhizomes; stems erect, unbranched or branched in upper part, often with short sterile branches at leaf axils above middle, striate, usually white villous. Leaves sessile; leaf blade lanceolate, oblong-lanceolate, or sublinear, 5-20 x 1-2.5 cm, (2 or)3-pinnatisect, abaxially densely villous, adaxially densely depressed glandular punctuate; ultimate segments lanceolate to linear, 0.5-1.5 x 0.3-0.5 mm, apex cartilaginous-mucronulate. Synflorescence a terminal flat-topped panicle 2-6 cm in diam. Capitula many. Involucres oblong or subovoid, ca. 4 x 3 mm; phyllaries in 3 rows, elliptic or oblong, 1.5-3 x 1-1.3 mm, scarious margin pale yellow or brown; midvein convex. Paleae oblong-elliptic, scarious, abaxially yellow gland-dotted. Ray florets 5; lamina white, pink, or violet-red, suborbicular, 1.5-3 x 2-2.5 mm, apex 2- or 3-denticulate. Disk florets yellow, tubular, 2.2-3 mm, exterior gland-dotted, apex 5-lobed. Achenes greenish, oblong, ca. 2 mm, with white lateral ribs. Corona absent. flower. and fruit. Jul-Sep. 2n = 18, 27, 36 + 0-2B, 45, 54 + 0-3B, 72.\"\n",
    "\n",
    "doc = nlp(text)\n",
    "\n",
    "\n",
    "doc = ner(doc)\n",
    "\n",
    "training_data = []\n",
    "\n",
    "def has_complex_numeric_ent(sent):\n",
    "    \n",
    "    return True\n",
    "    \n",
    "    MIN_NUMBER_LENGTH = 1\n",
    "    \n",
    "    # We don't want to add a load of training data with cardinals of length 1\n",
    "    # So get the maximum length of numeric chars, and skip if not > 1         \n",
    "    max_num_len = max([sum([len(t) for t in ent if t.pos_ == 'NUM']) for ent in sent.ents])\n",
    "\n",
    "    return max_num_len > MIN_NUMBER_LENGTH\n",
    "\n",
    "\n",
    "sents = [sent for sent in doc.sents if sent._.is_modified_numeric and has_complex_numeric_ent(sent)]\n",
    "\n",
    "for sent in sents:\n",
    "    training_data.append(\n",
    "        (sent.text, [[ent.start, ent.end, ent.label_] for ent in sent.ents])\n",
    "    )    \n",
    "\n",
    "html =  displacy.render(doc, style='ent', jupyter=True)        \n",
    "        \n",
    "print(training_data)\n",
    "        \n",
    "        \n",
    "# \n",
    "\n",
    "# = [\n",
    "#   (\"Tokyo Tower is 333m tall.\", [(0, 11, \"BUILDING\")]),\n",
    "# ]            \n",
    "\n",
    "# for ent in doc.ents:\n",
    "#     print(ent)\n",
    "#     print(ent.label_)\n",
    "\n",
    "# displacy.render(doc, style=\"ent\")\n",
    "            "
   ]
  },
  {
   "cell_type": "code",
   "execution_count": 42,
   "id": "57a9260f-a037-4e9d-97d6-3dfd00ab2570",
   "metadata": {},
   "outputs": [
    {
     "data": {
      "text/html": [
       "<span class=\"tex2jax_ignore\"><div class=\"entities\" style=\"line-height: 2.5; direction: ltr\">Herbs, perennial, \n",
       "<mark class=\"entity\" style=\"background: #e4e7d2; padding: 0.45em 0.6em; margin: 0 0.25em; line-height: 1; border-radius: 0.35em;\">\n",
       "    40-100 cm\n",
       "    <span style=\"font-size: 0.8em; font-weight: bold; line-height: 1; border-radius: 0.35em; vertical-align: middle; margin-left: 0.5rem\">QUANTITY</span>\n",
       "</mark>\n",
       " tall, with long rhizomes; stems erect, unbranched or branched in upper part, often with short sterile branches at leaf axils above middle, striate, usually white villous. Leaves sessile; leaf blade lanceolate, oblong-lanceolate, or sublinear, \n",
       "<mark class=\"entity\" style=\"background: #e4e7d2; padding: 0.45em 0.6em; margin: 0 0.25em; line-height: 1; border-radius: 0.35em;\">\n",
       "    5-20 x 1-2.5 cm\n",
       "    <span style=\"font-size: 0.8em; font-weight: bold; line-height: 1; border-radius: 0.35em; vertical-align: middle; margin-left: 0.5rem\">QUANTITY</span>\n",
       "</mark>\n",
       ", (\n",
       "<mark class=\"entity\" style=\"background: #e4e7d2; padding: 0.45em 0.6em; margin: 0 0.25em; line-height: 1; border-radius: 0.35em;\">\n",
       "    2\n",
       "    <span style=\"font-size: 0.8em; font-weight: bold; line-height: 1; border-radius: 0.35em; vertical-align: middle; margin-left: 0.5rem\">CARDINAL</span>\n",
       "</mark>\n",
       " or)3-pinnatisect, abaxially densely villous, adaxially densely depressed glandular punctuate; ultimate segments lanceolate to linear, \n",
       "<mark class=\"entity\" style=\"background: #ddd; padding: 0.45em 0.6em; margin: 0 0.25em; line-height: 1; border-radius: 0.35em;\">\n",
       "    0.5-1.5 x 0.3-0.5 mm\n",
       "    <span style=\"font-size: 0.8em; font-weight: bold; line-height: 1; border-radius: 0.35em; vertical-align: middle; margin-left: 0.5rem\">QUANTITYX</span>\n",
       "</mark>\n",
       ", apex cartilaginous-mucronulate. Synflorescence a terminal flat-topped panicle \n",
       "<mark class=\"entity\" style=\"background: #ddd; padding: 0.45em 0.6em; margin: 0 0.25em; line-height: 1; border-radius: 0.35em;\">\n",
       "    2-6 cm\n",
       "    <span style=\"font-size: 0.8em; font-weight: bold; line-height: 1; border-radius: 0.35em; vertical-align: middle; margin-left: 0.5rem\">QUANTITYX</span>\n",
       "</mark>\n",
       " in diam. Capitula many. Involucres oblong or subovoid, \n",
       "<mark class=\"entity\" style=\"background: #ddd; padding: 0.45em 0.6em; margin: 0 0.25em; line-height: 1; border-radius: 0.35em;\">\n",
       "    ca. 4 x 3 mm\n",
       "    <span style=\"font-size: 0.8em; font-weight: bold; line-height: 1; border-radius: 0.35em; vertical-align: middle; margin-left: 0.5rem\">QUANTITYX</span>\n",
       "</mark>\n",
       "; phyllaries in \n",
       "<mark class=\"entity\" style=\"background: #e4e7d2; padding: 0.45em 0.6em; margin: 0 0.25em; line-height: 1; border-radius: 0.35em;\">\n",
       "    3\n",
       "    <span style=\"font-size: 0.8em; font-weight: bold; line-height: 1; border-radius: 0.35em; vertical-align: middle; margin-left: 0.5rem\">CARDINAL</span>\n",
       "</mark>\n",
       " rows, elliptic or oblong, \n",
       "<mark class=\"entity\" style=\"background: #ddd; padding: 0.45em 0.6em; margin: 0 0.25em; line-height: 1; border-radius: 0.35em;\">\n",
       "    1.5-3 x 1-1.3 mm\n",
       "    <span style=\"font-size: 0.8em; font-weight: bold; line-height: 1; border-radius: 0.35em; vertical-align: middle; margin-left: 0.5rem\">QUANTITYX</span>\n",
       "</mark>\n",
       ", scarious margin pale yellow or brown; midvein convex. Paleae oblong-elliptic, scarious, abaxially yellow gland-dotted. Ray florets \n",
       "<mark class=\"entity\" style=\"background: #e4e7d2; padding: 0.45em 0.6em; margin: 0 0.25em; line-height: 1; border-radius: 0.35em;\">\n",
       "    5\n",
       "    <span style=\"font-size: 0.8em; font-weight: bold; line-height: 1; border-radius: 0.35em; vertical-align: middle; margin-left: 0.5rem\">CARDINAL</span>\n",
       "</mark>\n",
       "; lamina white, pink, or violet-red, suborbicular, \n",
       "<mark class=\"entity\" style=\"background: #e4e7d2; padding: 0.45em 0.6em; margin: 0 0.25em; line-height: 1; border-radius: 0.35em;\">\n",
       "    1.5-3 x 2-2.5 mm\n",
       "    <span style=\"font-size: 0.8em; font-weight: bold; line-height: 1; border-radius: 0.35em; vertical-align: middle; margin-left: 0.5rem\">QUANTITY</span>\n",
       "</mark>\n",
       ", apex \n",
       "<mark class=\"entity\" style=\"background: #ddd; padding: 0.45em 0.6em; margin: 0 0.25em; line-height: 1; border-radius: 0.35em;\">\n",
       "    2-\n",
       "    <span style=\"font-size: 0.8em; font-weight: bold; line-height: 1; border-radius: 0.35em; vertical-align: middle; margin-left: 0.5rem\">CARDINALX</span>\n",
       "</mark>\n",
       " or \n",
       "<mark class=\"entity\" style=\"background: #e4e7d2; padding: 0.45em 0.6em; margin: 0 0.25em; line-height: 1; border-radius: 0.35em;\">\n",
       "    3\n",
       "    <span style=\"font-size: 0.8em; font-weight: bold; line-height: 1; border-radius: 0.35em; vertical-align: middle; margin-left: 0.5rem\">CARDINAL</span>\n",
       "</mark>\n",
       "-denticulate. Disk florets yellow, tubular, \n",
       "<mark class=\"entity\" style=\"background: #e4e7d2; padding: 0.45em 0.6em; margin: 0 0.25em; line-height: 1; border-radius: 0.35em;\">\n",
       "    2.2-3 mm\n",
       "    <span style=\"font-size: 0.8em; font-weight: bold; line-height: 1; border-radius: 0.35em; vertical-align: middle; margin-left: 0.5rem\">QUANTITY</span>\n",
       "</mark>\n",
       ", exterior gland-dotted, apex \n",
       "<mark class=\"entity\" style=\"background: #e4e7d2; padding: 0.45em 0.6em; margin: 0 0.25em; line-height: 1; border-radius: 0.35em;\">\n",
       "    5\n",
       "    <span style=\"font-size: 0.8em; font-weight: bold; line-height: 1; border-radius: 0.35em; vertical-align: middle; margin-left: 0.5rem\">CARDINAL</span>\n",
       "</mark>\n",
       "-lobed. Achenes greenish, oblong, \n",
       "<mark class=\"entity\" style=\"background: #ddd; padding: 0.45em 0.6em; margin: 0 0.25em; line-height: 1; border-radius: 0.35em;\">\n",
       "    ca. 2 mm\n",
       "    <span style=\"font-size: 0.8em; font-weight: bold; line-height: 1; border-radius: 0.35em; vertical-align: middle; margin-left: 0.5rem\">QUANTITYX</span>\n",
       "</mark>\n",
       ", with white lateral ribs. Corona absent. flower. and fruit. \n",
       "<mark class=\"entity\" style=\"background: #bfe1d9; padding: 0.45em 0.6em; margin: 0 0.25em; line-height: 1; border-radius: 0.35em;\">\n",
       "    Jul-Sep. 2n\n",
       "    <span style=\"font-size: 0.8em; font-weight: bold; line-height: 1; border-radius: 0.35em; vertical-align: middle; margin-left: 0.5rem\">DATE</span>\n",
       "</mark>\n",
       " = \n",
       "<mark class=\"entity\" style=\"background: #ddd; padding: 0.45em 0.6em; margin: 0 0.25em; line-height: 1; border-radius: 0.35em;\">\n",
       "    18\n",
       "    <span style=\"font-size: 0.8em; font-weight: bold; line-height: 1; border-radius: 0.35em; vertical-align: middle; margin-left: 0.5rem\">CARDINALX</span>\n",
       "</mark>\n",
       ", \n",
       "<mark class=\"entity\" style=\"background: #ddd; padding: 0.45em 0.6em; margin: 0 0.25em; line-height: 1; border-radius: 0.35em;\">\n",
       "    27\n",
       "    <span style=\"font-size: 0.8em; font-weight: bold; line-height: 1; border-radius: 0.35em; vertical-align: middle; margin-left: 0.5rem\">CARDINALX</span>\n",
       "</mark>\n",
       ", \n",
       "<mark class=\"entity\" style=\"background: #ddd; padding: 0.45em 0.6em; margin: 0 0.25em; line-height: 1; border-radius: 0.35em;\">\n",
       "    36 + 0-2B\n",
       "    <span style=\"font-size: 0.8em; font-weight: bold; line-height: 1; border-radius: 0.35em; vertical-align: middle; margin-left: 0.5rem\">CARDINALX</span>\n",
       "</mark>\n",
       ", \n",
       "<mark class=\"entity\" style=\"background: #ddd; padding: 0.45em 0.6em; margin: 0 0.25em; line-height: 1; border-radius: 0.35em;\">\n",
       "    45\n",
       "    <span style=\"font-size: 0.8em; font-weight: bold; line-height: 1; border-radius: 0.35em; vertical-align: middle; margin-left: 0.5rem\">CARDINALX</span>\n",
       "</mark>\n",
       ", \n",
       "<mark class=\"entity\" style=\"background: #ddd; padding: 0.45em 0.6em; margin: 0 0.25em; line-height: 1; border-radius: 0.35em;\">\n",
       "    54 + 0-3B\n",
       "    <span style=\"font-size: 0.8em; font-weight: bold; line-height: 1; border-radius: 0.35em; vertical-align: middle; margin-left: 0.5rem\">CARDINALX</span>\n",
       "</mark>\n",
       ", \n",
       "<mark class=\"entity\" style=\"background: #e4e7d2; padding: 0.45em 0.6em; margin: 0 0.25em; line-height: 1; border-radius: 0.35em;\">\n",
       "    72\n",
       "    <span style=\"font-size: 0.8em; font-weight: bold; line-height: 1; border-radius: 0.35em; vertical-align: middle; margin-left: 0.5rem\">CARDINAL</span>\n",
       "</mark>\n",
       ".</div></span>"
      ],
      "text/plain": [
       "<IPython.core.display.HTML object>"
      ]
     },
     "metadata": {},
     "output_type": "display_data"
    }
   ],
   "source": [
    "def is_complex_numeric_ent(ent):\n",
    "    \n",
    "    MIN_NUMBER_LENGTH = 1\n",
    "    \n",
    "    # We don't want to add a load of training data with cardinals of length 1\n",
    "    # So get the maximum length of numeric chars, and skip if not > 1         \n",
    "    num_len = sum([len(t) for t in ent if t.pos_ == 'NUM'])\n",
    "\n",
    "    return num_len > MIN_NUMBER_LENGTH  \n",
    "\n",
    "\n",
    "matcher = Matcher(nlp.vocab)\n",
    "matcher.add('NUMERIC', [[{\"POS\": \"NUM\"}]])\n",
    "\n",
    "expand_numeric = ExpandSpan(\n",
    "    ['-', '(', ')', '+', 'cm', 'mm', 'm', '×', 'x', ('ca', '.')], \n",
    "    pos_tags=['NUM'],\n",
    "    entity_types=['QUANTITY', 'CARDINAL']\n",
    ")\n",
    "\n",
    "doc = registry.nlp(text)\n",
    "orig_ents = set(doc.ents)\n",
    "ents = set()\n",
    "\n",
    "for _, start, end in matcher(doc):  \n",
    "    token = doc[start]      \n",
    "    span = expand_numeric(doc, token)            \n",
    "    has_unit = [t for t in span if t.lower_ in ['mm', 'cm', 'm']]            \n",
    "    label = 'QUANTITYX' if has_unit else 'CARDINALX'\n",
    "    ents.add(Span(doc, span.start, span.end, label=label))            \n",
    "\n",
    "# Combine the new and original ents\n",
    "# combined_ents = set(filter_spans(ents | orig_ents))\n",
    "\n",
    "# Get all the new ents, and label the sent as a training sent         \n",
    "new_ents = ents.difference(orig_ents)\n",
    "\n",
    "new_ents = {e for e in new_ents if is_complex_numeric_ent(e)}\n",
    "\n",
    "combined_ents = set(filter_spans(new_ents | orig_ents))                        \n",
    "doc.ents = combined_ents\n",
    "\n",
    "sents = {ent.sent for ent in new_ents}\n",
    "\n",
    "displacy.render(doc4 x 3 mm, style='ent', jupyter=True)\n"
   ]
  },
  {
   "cell_type": "code",
   "execution_count": 73,
   "id": "73b33c98-62f5-42e5-b72f-c1192bc9e1bb",
   "metadata": {},
   "outputs": [],
   "source": [
    "nlp = spacy.load(\"en_core_web_trf\")"
   ]
  },
  {
   "cell_type": "code",
   "execution_count": 74,
   "id": "8196d17c-3aeb-403f-98fe-5cbcb579806e",
   "metadata": {},
   "outputs": [
    {
     "name": "stdout",
     "output_type": "stream",
     "text": [
      "INIT custom_sentencizers1\n",
      "CALLS\n"
     ]
    }
   ],
   "source": [
    "class Sentencizer(BaseComponent):\n",
    "    \n",
    "    \"\"\"\n",
    "    Sentencizer, to split sentences on semicolons and periods.\n",
    "    \n",
    "    NB: If we just add is_sent_start for each semicolon, the default\n",
    "    parser will split incorrectly\n",
    "    \"\"\"\n",
    "    \n",
    "    name = 'custom_sentencizers1'\n",
    "\n",
    "    pipeline_config = {'first': True}\n",
    "\n",
    "    def __call__(self, doc):\n",
    "        \n",
    "        print('CALLS')\n",
    "        \n",
    "        for token in doc[1:]:\n",
    "            if self._is_sent_end(doc, doc[token.i - 1]):\n",
    "                token.is_sent_start = True\n",
    "            else:\n",
    "                token.is_sent_start = False\n",
    "                \n",
    "        return doc\n",
    "    \n",
    "    def _is_sent_end(self, doc, token):\n",
    "        return any([\n",
    "            self._is_semicolon(doc, token),\n",
    "            self._is_period(doc, token),\n",
    "        ])\n",
    "    \n",
    "    @staticmethod\n",
    "    def _is_semicolon(doc, token):\n",
    "        return token.text == \";\"\n",
    "    \n",
    "    @staticmethod\n",
    "    def _is_period(doc, token):\n",
    "        next_token = doc[token.i + 1]\n",
    "\n",
    "        # Ensure the next word starts with a capital         \n",
    "        return token.text == \".\" and next_token.shape_.startswith('X')\n",
    "\n",
    "registry = ComponentsRegistry(nlp)\n",
    "registry.add_components([\n",
    "    Sentencizer,\n",
    "])\n",
    "\n",
    "doc = registry.nlp(text)"
   ]
  },
  {
   "cell_type": "code",
   "execution_count": 71,
   "id": "1fd3ce0c-e238-430e-9c69-6553854eeade",
   "metadata": {},
   "outputs": [
    {
     "name": "stdout",
     "output_type": "stream",
     "text": [
      "['_', '__bytes__', '__class__', '__delattr__', '__dir__', '__doc__', '__eq__', '__format__', '__ge__', '__getattribute__', '__gt__', '__hash__', '__init__', '__init_subclass__', '__le__', '__len__', '__lt__', '__ne__', '__new__', '__pyx_vtable__', '__reduce__', '__reduce_ex__', '__repr__', '__setattr__', '__sizeof__', '__str__', '__subclasshook__', '__unicode__', 'ancestors', 'check_flag', 'children', 'cluster', 'conjuncts', 'dep', 'dep_', 'doc', 'ent_id', 'ent_id_', 'ent_iob', 'ent_iob_', 'ent_kb_id', 'ent_kb_id_', 'ent_type', 'ent_type_', 'get_extension', 'has_dep', 'has_extension', 'has_head', 'has_morph', 'has_vector', 'head', 'i', 'idx', 'iob_strings', 'is_alpha', 'is_ancestor', 'is_ascii', 'is_bracket', 'is_currency', 'is_digit', 'is_left_punct', 'is_lower', 'is_oov', 'is_punct', 'is_quote', 'is_right_punct', 'is_sent_end', 'is_sent_start', 'is_space', 'is_stop', 'is_title', 'is_upper', 'lang', 'lang_', 'left_edge', 'lefts', 'lemma', 'lemma_', 'lex', 'lex_id', 'like_email', 'like_num', 'like_url', 'lower', 'lower_', 'morph', 'n_lefts', 'n_rights', 'nbor', 'norm', 'norm_', 'orth', 'orth_', 'pos', 'pos_', 'prefix', 'prefix_', 'prob', 'rank', 'remove_extension', 'right_edge', 'rights', 'sent', 'sent_start', 'sentiment', 'set_extension', 'set_morph', 'shape', 'shape_', 'similarity', 'subtree', 'suffix', 'suffix_', 'tag', 'tag_', 'tensor', 'text', 'text_with_ws', 'vector', 'vector_norm', 'vocab', 'whitespace_']\n",
      "True\n"
     ]
    }
   ],
   "source": [
    "for token in doc:\n",
    "    print(dir(token))\n",
    "    print(token.shape_.startswith('X'))\n",
    "    break"
   ]
  },
  {
   "cell_type": "code",
   "execution_count": 75,
   "id": "370795f8-0924-4cbc-ae91-81f7d12f8ed3",
   "metadata": {},
   "outputs": [
    {
     "name": "stdout",
     "output_type": "stream",
     "text": [
      "Herbs, perennial, 40-100 cm tall, with long rhizomes;\n",
      "stems erect, unbranched or branched in upper part, often with short sterile branches at leaf axils above middle, striate, usually white villous.\n",
      "Leaves sessile;\n",
      "leaf blade lanceolate, oblong-lanceolate, or sublinear, 5-20 x 1-2.5 cm, (2 or)3-pinnatisect, abaxially densely villous, adaxially densely depressed glandular punctuate;\n",
      "ultimate segments lanceolate to linear, 0.5-1.5 x 0.3-0.5 mm, apex cartilaginous-mucronulate.\n",
      "Synflorescence a terminal flat-topped panicle 2-6 cm in diam.\n",
      "Capitula many.\n",
      "Involucres oblong or subovoid, ca. 4 x 3 mm;\n",
      "phyllaries in 3 rows, elliptic or oblong, 1.5-3 x 1-1.3 mm, scarious margin pale yellow or brown;\n",
      "midvein convex.\n",
      "Paleae oblong-elliptic, scarious, abaxially yellow gland-dotted.\n",
      "Ray florets 5;\n",
      "lamina white, pink, or violet-red, suborbicular, 1.5-3 x 2-2.5 mm, apex 2- or 3-denticulate.\n",
      "Disk florets yellow, tubular, 2.2-3 mm, exterior gland-dotted, apex 5-lobed.\n",
      "Achenes greenish, oblong, ca. 2 mm, with white lateral ribs.\n",
      "Corona absent. flower. and fruit.\n",
      "Jul-Sep. 2n = 18, 27, 36 + 0-2B, 45, 54 + 0-3B, 72.\n"
     ]
    }
   ],
   "source": [
    "for sent in doc.sents:\n",
    "    print(sent)"
   ]
  },
  {
   "cell_type": "code",
   "execution_count": 67,
   "id": "4513c1dd-0665-4e07-ad66-f833f5274ac2",
   "metadata": {},
   "outputs": [
    {
     "name": "stdout",
     "output_type": "stream",
     "text": [
      "--\n",
      "Rhizomes\n",
      "Rhizomes far-creeping producing tufts of 1-3 shoots at ± regular intervals.\n",
      "--\n",
      "Roots\n",
      "Roots pale yellow-brown.\n",
      "--\n",
      "Scales\n",
      "Scales grey brown, often tinged wine red, soon becoming fibrous.\n",
      "--\n",
      "Stems\n",
      "Stems trigonous, smooth below, rough above, ± decumbent at base.\n",
      "--\n",
      "Ligule\n",
      "Ligule 1-4 mm, broadly ovate or almost truncate.\n",
      "--\n",
      "sheaths\n",
      "Lower sheaths lfless, persistent, thick, white, tinged with red.\n",
      "--\n",
      "None\n",
      "Infl 1/5-1/4 lngth of stem.\n",
      "--\n",
      "bract\n",
      "Lower bract lf-like, about as long as infl, not sheathing, upper glumaceous.\n",
      "--\n",
      "spike\n",
      "Male spike 1(-2), 10-15 x 3 mm, fusiform.\n",
      "--\n",
      "glumes\n",
      "Male glumes 3-4 mm, ovate, acute or obtuse, dark purple-black with hyaline margin.\n",
      "--\n",
      "spikes\n",
      "Female spikes 1-2(-3), ± contiguous, (5-)10-15(-20) x 4-5 mm, ovoid or subglobose, erect, lower peduncled, upper ±  sessile.\n",
      "--\n",
      "glumes\n",
      "Female glumes 2-3 mm, ovate, acute, dark purplish-brown with pale midrib and hyaline margin, shorter than fr.  \n",
      "--\n",
      "Utricle\n",
      "Utricle 3-3.5 mm, smooth, ±          inflated, dark purple green in upper half, shiny.\n",
      "--\n",
      "Beak\n",
      "Beak 0.5 mm, ±          notched.\n",
      "--\n",
      "Nut\n",
      "Stigmas 2, rarely 3. Nut 2 mm, subglobose.\n"
     ]
    }
   ],
   "source": [
    "# for ent in doc.ents:\n",
    "#     print(ent.label_, ent.text, ent.start)    \n",
    "\n",
    "# def get_sentence_subject_nouns(sent):\n",
    "#     # Try and identify which group match to use, by examining the sentence nouns\n",
    "#     # Try nsubj, and then ROOT and NOUN\n",
    "#     subject_nouns = [t for t in sent if t.dep_ == \"nsubj\"] + [t for t in sent if t.dep_ == \"ROOT\" and t.pos_ == \"NOUN\"]  \n",
    "#     return subject_nouns      \n",
    "    \n",
    "def is_subject_noun(token):\n",
    "    return token.dep_ == \"nsubj\" or (token.dep_ == \"ROOT\" and token.pos_ == \"NOUN\")\n",
    "    \n",
    "def sent_get_subject_part(sent, parts):\n",
    "    for part in parts:\n",
    "        if any([t for t in part if is_subject_noun(t)]):\n",
    "            return part\n",
    "            \n",
    "    \n",
    "for sent in doc.sents:\n",
    "    parts = [e for e in sent.ents if e.label_ == 'PART']\n",
    "\n",
    "    if not parts:\n",
    "        continue\n",
    "        \n",
    "    subject_part = sent_get_subject_part(sent, parts)    \n",
    "\n",
    "    if not subject_part:     \n",
    "        first_part = parts[0]\n",
    "        # Is the first part the first sentence, then use it as a subject        \n",
    "        if first_part.start == sent.start:\n",
    "            subject_part = parts[0]\n",
    "        # Or if the first part is the second word, preceeded by a modifier         \n",
    "        # For example: lower bract         \n",
    "        elif first_part.start == sent.start + 1 and sent[0].dep_ == 'amod':\n",
    "            subject_part = parts[0]\n",
    "            \n",
    "            \n",
    "    print('--')\n",
    "    print(subject_part)\n",
    "    print(sent)\n",
    "    "
   ]
  },
  {
   "cell_type": "code",
   "execution_count": 68,
   "id": "f9e60332-a37a-4c4c-89ab-a87995276bdc",
   "metadata": {},
   "outputs": [
    {
     "name": "stderr",
     "output_type": "stream",
     "text": [
      "/Users/ben/Library/Caches/pypoetry/virtualenvs/adept-igwYr31N-py3.9/lib/python3.9/site-packages/spacy/util.py:833: UserWarning: [W095] Model 'en_core_web_trf' (3.1.0) was trained with spaCy v3.1 and may not be 100% compatible with the current version (3.2.4). If you see errors or degraded performance, download a newer compatible model or retrain your custom model with the current spaCy version. For more details and available updates, run: python -m spacy validate\n",
      "  warnings.warn(warn_msg)\n"
     ]
    }
   ],
   "source": [
    "nlp = spacy.load(\"en_core_web_trf\")"
   ]
  },
  {
   "cell_type": "code",
   "execution_count": 69,
   "id": "bc07498f-b7fc-4073-84cf-7c000085bd33",
   "metadata": {},
   "outputs": [
    {
     "name": "stderr",
     "output_type": "stream",
     "text": [
      "/Users/ben/Library/Caches/pypoetry/virtualenvs/adept-igwYr31N-py3.9/lib/python3.9/site-packages/torch/autocast_mode.py:162: UserWarning: User provided device_type of 'cuda', but CUDA is not available. Disabling\n",
      "  warnings.warn('User provided device_type of \\'cuda\\', but CUDA is not available. Disabling')\n"
     ]
    }
   ],
   "source": [
    "t = 'Herbs, perennial, 40-100 cm tall, with long rhizomes; stems erect, unbranched or branched in upper part, often with short sterile branches at leaf axils above middle, striate, usually white villous. Leaves sessile; leaf blade lanceolate, oblong-lanceolate, or sublinear, 5-20 × 1-2.5 cm, (2 or)3-pinnatisect, abaxially densely villous, adaxially densely depressed glandular punctuate; ultimate segments lanceolate to linear, 0.5-1.5 × 0.3-0.5 mm, apex cartilaginous-mucronulate. Synflorescence a terminal flat-topped panicle 2-6 cm in diam. Capitula many. Involucres oblong or subovoid, ca. 4 × 3 mm; phyllaries in 3 rows, elliptic or oblong, 1.5-3 × 1-1.3 mm, scarious margin pale yellow or brown; midvein convex. Paleae oblong-elliptic, scarious, abaxially yellow gland-dotted. Ray florets 5; lamina white, pink, or violet-red, suborbicular, 1.5-3 × 2-2.5 mm, apex 2- or 3-denticulate. Disk florets yellow, tubular, 2.2-3 mm, exterior gland-dotted, apex 5-lobed. Achenes greenish, oblong, ca. 2 mm, with white lateral ribs. Corona absent. flower. and fruit. Jul-Sep. 2n = 18, 27, 36 + 0-2B, 45, 54 + 0-3B, 72.'\n",
    "\n",
    "doc = nlp(t)"
   ]
  },
  {
   "cell_type": "code",
   "execution_count": 72,
   "id": "bead30aa-959e-498d-8835-31b0a24ddb77",
   "metadata": {},
   "outputs": [
    {
     "name": "stdout",
     "output_type": "stream",
     "text": [
      "40-100 cm\n",
      "QUANTITY\n",
      "5-20 ×\n",
      "QUANTITY\n",
      "2\n",
      "CARDINAL\n",
      "0.5-1.5 ×\n",
      "QUANTITY\n",
      "2-6 cm\n",
      "QUANTITY\n",
      "ca. 4 × 3 mm\n",
      "QUANTITY\n",
      "3\n",
      "CARDINAL\n",
      "1.5-3 ×\n",
      "QUANTITY\n",
      "5\n",
      "CARDINAL\n",
      "1.5-3\n",
      "QUANTITY\n",
      "2-2.5 mm\n",
      "QUANTITY\n",
      "2-\n",
      "CARDINAL\n",
      "3\n",
      "CARDINAL\n",
      "2.2-3 mm\n",
      "QUANTITY\n",
      "5\n",
      "CARDINAL\n",
      "ca. 2 mm\n",
      "QUANTITY\n",
      "Jul-Sep. 2n\n",
      "DATE\n",
      "18\n",
      "CARDINAL\n",
      "27\n",
      "CARDINAL\n",
      "36\n",
      "CARDINAL\n",
      "45\n",
      "CARDINAL\n",
      "54\n",
      "CARDINAL\n",
      "0\n",
      "CARDINAL\n",
      "72\n",
      "CARDINAL\n"
     ]
    }
   ],
   "source": [
    "for ent in doc.ents:\n",
    "    print(ent)\n",
    "    print(ent.label_)"
   ]
  },
  {
   "cell_type": "code",
   "execution_count": 73,
   "id": "4401afd7-b156-42de-a8a2-2abf332092b1",
   "metadata": {},
   "outputs": [
    {
     "data": {
      "text/plain": [
       "\"'×'\""
      ]
     },
     "execution_count": 73,
     "metadata": {},
     "output_type": "execute_result"
    }
   ],
   "source": [
    "x = '×'\n",
    "repr(x)"
   ]
  },
  {
   "cell_type": "code",
   "execution_count": 74,
   "id": "19dd0ac9-6fc3-4976-a41a-f59709a0214b",
   "metadata": {},
   "outputs": [
    {
     "name": "stdout",
     "output_type": "stream",
     "text": [
      "huggingface/tokenizers: The current process just got forked, after parallelism has already been used. Disabling parallelism to avoid deadlocks...\n",
      "To disable this warning, you can either:\n",
      "\t- Avoid using `tokenizers` before the fork if possible\n",
      "\t- Explicitly set the environment variable TOKENIZERS_PARALLELISM=(true | false)\n",
      "Collecting unidecode\n",
      "  Downloading Unidecode-1.3.4-py3-none-any.whl (235 kB)\n",
      "\u001b[K     |████████████████████████████████| 235 kB 3.3 MB/s eta 0:00:01\n",
      "\u001b[?25hInstalling collected packages: unidecode\n",
      "Successfully installed unidecode-1.3.4\n",
      "\u001b[33mWARNING: You are using pip version 21.2.4; however, version 22.0.4 is available.\n",
      "You should consider upgrading via the '/Users/ben/Library/Caches/pypoetry/virtualenvs/adept-igwYr31N-py3.9/bin/python -m pip install --upgrade pip' command.\u001b[0m\n"
     ]
    }
   ],
   "source": [
    "!pip install unidecode"
   ]
  },
  {
   "cell_type": "code",
   "execution_count": 75,
   "id": "b0169467-9d6b-460c-af25-a15b5cf2092e",
   "metadata": {},
   "outputs": [],
   "source": [
    "s = '5.5–33 cm × 1.4–4.7 mm'"
   ]
  },
  {
   "cell_type": "code",
   "execution_count": 76,
   "id": "cc7e50b3-61fe-41a6-aebd-26c43ac1dc70",
   "metadata": {},
   "outputs": [],
   "source": [
    "from unidecode import unidecode\n",
    "clean = unidecode(s)"
   ]
  },
  {
   "cell_type": "code",
   "execution_count": 77,
   "id": "5b44cc54-1579-4329-a5ec-64e411dc8bd6",
   "metadata": {},
   "outputs": [
    {
     "data": {
      "text/plain": [
       "'5.5-33 cm x 1.4-4.7 mm'"
      ]
     },
     "execution_count": 77,
     "metadata": {},
     "output_type": "execute_result"
    }
   ],
   "source": [
    "clean"
   ]
  },
  {
   "cell_type": "code",
   "execution_count": 78,
   "id": "44b59b24-4794-4608-a451-39daa9c8c4e3",
   "metadata": {},
   "outputs": [
    {
     "data": {
      "text/plain": [
       "20154"
      ]
     },
     "execution_count": 79,
     "metadata": {},
     "output_type": "execute_result"
    }
   ],
   "source": [
    "for i in s:\n",
    "    print(repr(i))"
   ]
  },
  {
   "cell_type": "code",
   "execution_count": 80,
   "id": "4be43c5b-f2ba-4d91-8929-b7da386ccb1d",
   "metadata": {},
   "outputs": [
    {
     "data": {
      "text/plain": [
       "b'5.5\\\\u201333 cm \\\\xd7 1.4\\\\u20134.7 mm'"
      ]
     },
     "execution_count": 80,
     "metadata": {},
     "output_type": "execute_result"
    }
   ],
   "source": [
    "s.encode(\"unicode_escape\")"
   ]
  },
  {
   "cell_type": "code",
   "execution_count": 81,
   "id": "8c7d9299-4533-4fb2-9381-dd0c2d0692ab",
   "metadata": {},
   "outputs": [
    {
     "data": {
      "text/plain": [
       "b'5.5-33 cm x 1.4-4.7 mm'"
      ]
     },
     "execution_count": 81,
     "metadata": {},
     "output_type": "execute_result"
    }
   ],
   "source": [
    "clean.encode(\"unicode_escape\")"
   ]
  },
  {
   "cell_type": "code",
   "execution_count": 120,
   "id": "700232c4-9c86-48ef-a73f-a686d58f47d7",
   "metadata": {},
   "outputs": [],
   "source": [
    "idx = [[1,2], [1,3], [1,4], [7,8], [6, 9]]"
   ]
  },
  {
   "cell_type": "code",
   "execution_count": 119,
   "id": "fc739a7a-f699-4cd9-98ba-28e6cf8def8e",
   "metadata": {},
   "outputs": [
    {
     "name": "stdout",
     "output_type": "stream",
     "text": [
      "range(1, 2)\n",
      "range(1, 3)\n",
      "range(1, 4)\n",
      "range(7, 8)\n",
      "range(6, 9)\n"
     ]
    }
   ],
   "source": [
    "for y in x:\n",
    "    r = range(*y)\n",
    "    print(r)"
   ]
  },
  {
   "cell_type": "code",
   "execution_count": 130,
   "id": "b451b2de-8b14-4a50-bb70-ac567dc55e74",
   "metadata": {},
   "outputs": [
    {
     "data": {
      "text/plain": [
       "[glabrous perennial 15, ) cm.]"
      ]
     },
     "execution_count": 130,
     "metadata": {},
     "output_type": "execute_result"
    }
   ],
   "source": [
    "from spacy.util import filter_spans\n",
    "\n",
    "spans = [doc[x:y] for x,y in idx]\n",
    "\n",
    "# for x,y in idx:\n",
    "#     doc[x:y]\n",
    "\n",
    "filter_spans(spans)"
   ]
  },
  {
   "cell_type": "code",
   "execution_count": 188,
   "id": "0d3eb889-d392-4ba2-a07a-f4a04ff6a243",
   "metadata": {},
   "outputs": [
    {
     "data": {
      "text/plain": [
       "-1"
      ]
     },
     "execution_count": 188,
     "metadata": {},
     "output_type": "execute_result"
    }
   ],
   "source": [
    "1*-1"
   ]
  },
  {
   "cell_type": "code",
   "execution_count": 189,
   "id": "505a65ce-8e27-4e3b-a6e2-5dd0f37b2a65",
   "metadata": {},
   "outputs": [
    {
     "data": {
      "text/plain": [
       "-1"
      ]
     },
     "execution_count": 189,
     "metadata": {},
     "output_type": "execute_result"
    }
   ],
   "source": [
    "0 => -1\n",
    "1 => 1"
   ]
  },
  {
   "cell_type": "code",
   "execution_count": 190,
   "id": "6d852529-3c45-4f23-b473-1a0906dd0983",
   "metadata": {},
   "outputs": [
    {
     "data": {
      "text/plain": [
       "0"
      ]
     },
     "execution_count": 190,
     "metadata": {},
     "output_type": "execute_result"
    }
   ],
   "source": [
    "0 - 0"
   ]
  },
  {
   "cell_type": "code",
   "execution_count": 207,
   "id": "1f556a2b-9ba9-471b-8e88-524e0eb8a4f0",
   "metadata": {},
   "outputs": [
    {
     "data": {
      "text/plain": [
       "-1"
      ]
     },
     "execution_count": 207,
     "metadata": {},
     "output_type": "execute_result"
    }
   ],
   "source": [
    "0*2 -1"
   ]
  },
  {
   "cell_type": "code",
   "execution_count": 314,
   "id": "cec1ebda-4d91-411d-81d3-2cce6ea67e00",
   "metadata": {},
   "outputs": [],
   "source": [
    "from reportlab.graphics import renderPM"
   ]
  },
  {
   "cell_type": "code",
   "execution_count": 330,
   "id": "f9d94122-f87b-43da-90b8-d943aa3bc5e3",
   "metadata": {},
   "outputs": [],
   "source": [
    "svg = \"\"\"<svg xmlns=\"http://www.w3.org/2000/svg\" xmlns:xlink=\"http://www.w3.org/1999/xlink\"   xmlns:svg=\"http://www.w3.org/2000/svg\"><div class=\"entities\" style=\"line-height: 2.5; direction: ltr\">Stems \n",
    "<mark class=\"entity\" style=\"background: #e4e7d2; padding: 0.45em 0.6em; margin: 0 0.25em; line-height: 1; border-radius: 0.35em;\">\n",
    "    1(-4)\n",
    "    <span style=\"font-size: 0.8em; font-weight: bold; line-height: 1; border-radius: 0.35em; vertical-align: middle; margin-left: 0.5rem\">CARDINAL</span>\n",
    "</mark>\n",
    ", erect, simple or branched, densely lanate-tomentose to glabrate. </div></svg>\"\"\""
   ]
  },
  {
   "cell_type": "code",
   "execution_count": 331,
   "id": "94cd4232-c451-420c-8918-bc40da069593",
   "metadata": {},
   "outputs": [
    {
     "name": "stdout",
     "output_type": "stream",
     "text": [
      "<svg xmlns=\"http://www.w3.org/2000/svg\" xmlns:xlink=\"http://www.w3.org/1999/xlink\"   xmlns:svg=\"http://www.w3.org/2000/svg\"><div class=\"entities\" style=\"line-height: 2.5; direction: ltr\">Stems \n",
      "<mark class=\"entity\" style=\"background: #e4e7d2; padding: 0.45em 0.6em; margin: 0 0.25em; line-height: 1; border-radius: 0.35em;\">\n",
      "    1(-4)\n",
      "    <span style=\"font-size: 0.8em; font-weight: bold; line-height: 1; border-radius: 0.35em; vertical-align: middle; margin-left: 0.5rem\">CARDINAL</span>\n",
      "</mark>\n",
      ", erect, simple or branched, densely lanate-tomentose to glabrate. </div></svg>\n"
     ]
    }
   ],
   "source": [
    "\n",
    "i = 1\n",
    "# output_path = Path(f\"./{i}.png\").open('w')\n",
    "# output_path.open(\"w\", encoding=\"utf-8\").write(svg)\n",
    "output_path = f\"./{i}.png\"\n",
    "print(svg)\n",
    "\n",
    "svg2png(bytestring=svg, write_to=output_path, parent_width=500, parent_height=500)"
   ]
  },
  {
   "cell_type": "code",
   "execution_count": null,
   "id": "3b99ed0c-b6e0-4355-9343-8a75d5b29135",
   "metadata": {},
   "outputs": [],
   "source": []
  }
 ],
 "metadata": {
  "kernelspec": {
   "display_name": "adept-igwYr31N-py3.9",
   "language": "python",
   "name": "adept-igwyr31n-py3.9"
  },
  "language_info": {
   "codemirror_mode": {
    "name": "ipython",
    "version": 3
   },
   "file_extension": ".py",
   "mimetype": "text/x-python",
   "name": "python",
   "nbconvert_exporter": "python",
   "pygments_lexer": "ipython3",
   "version": "3.9.10"
  }
 },
 "nbformat": 4,
 "nbformat_minor": 5
}
